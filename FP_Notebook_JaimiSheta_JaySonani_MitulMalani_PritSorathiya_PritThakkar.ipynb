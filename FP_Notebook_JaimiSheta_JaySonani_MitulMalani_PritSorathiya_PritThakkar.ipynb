{
  "cells": [
    {
      "cell_type": "markdown",
      "metadata": {
        "id": "4G30Gxvb02uf"
      },
      "source": [
        "<h1><center>CSCI - 6409 - The Process of Data Science - Summer 2022</h1></center>\n",
        "\n",
        "<h1><center>Predicting expected social media usage of users</h1></center>\n",
        "\n",
        "<h3><center>Group 4</h3></center>\n",
        "<center>\n",
        "<table>\n",
        "  <th>Name</th>\n",
        "  <th>Banner ID</th>\n",
        "  <tr>\n",
        "  <td> Jaimi Sheta </td>\n",
        "  <td> B00886563 </td>\n",
        "  </tr>\n",
        "  <tr>\n",
        "  <td> Jay Bhagvanbhai Sonani </td>\n",
        "  <td> B00891984 </td>\n",
        "  </tr>\n",
        "  <tr>\n",
        "  <td> Mitul Pravinbhai Malani </td>\n",
        "  <td> B00869519 </td>\n",
        "  </tr>\n",
        "  <tr>\n",
        "  <td> Prit Ajaykumar Sorathiya </td>\n",
        "  <td> B00890175 </td>\n",
        "  </tr>\n",
        "  <tr>\n",
        "  <td> Prit Thakkar </td>\n",
        "  <td> B00890731 </td>\n",
        "  </tr>\n",
        "  \n",
        "</table>\n",
        "</center>"
      ]
    },
    {
      "cell_type": "code",
      "execution_count": null,
      "metadata": {
        "colab": {
          "base_uri": "https://localhost:8080/"
        },
        "id": "lthvrm7q3I6m",
        "outputId": "dccb7656-aaae-4e89-8928-c79a781f5841"
      },
      "outputs": [
        {
          "output_type": "stream",
          "name": "stdout",
          "text": [
            "/usr/local/lib/python3.7/dist-packages/gdown/cli.py:131: FutureWarning: Option `--id` was deprecated in version 4.3.1 and will be removed in 5.0. You don't need to pass it anymore to use a file ID.\n",
            "  category=FutureWarning,\n",
            "Downloading...\n",
            "From: https://drive.google.com/uc?id=1EwhSH8UdWESEhXS2xutl0G_Yb81MIMhC\n",
            "To: /content/dataset.zip\n",
            "100% 167M/167M [00:02<00:00, 63.2MB/s]\n",
            "Archive:  dataset.zip\n",
            "   creating: dataset/\n",
            "  inflating: __MACOSX/._dataset      \n",
            "  inflating: dataset/customers.csv   \n",
            "  inflating: __MACOSX/dataset/._customers.csv  \n",
            "  inflating: dataset/pings.csv       \n",
            "  inflating: __MACOSX/dataset/._pings.csv  \n",
            "  inflating: dataset/.DS_Store       \n",
            "  inflating: __MACOSX/dataset/._.DS_Store  \n",
            "  inflating: dataset/test.csv        \n",
            "  inflating: __MACOSX/dataset/._test.csv  \n"
          ]
        }
      ],
      "source": [
        "# reference: https://github.com/wkentaro/gdown\n",
        "# Downloading dataset from the drive in this environment\n",
        "!gdown --id 1EwhSH8UdWESEhXS2xutl0G_Yb81MIMhC\n",
        "!unzip dataset.zip"
      ]
    },
    {
      "cell_type": "code",
      "execution_count": null,
      "metadata": {
        "id": "Ja7EU_Cg6-W6"
      },
      "outputs": [],
      "source": [
        "# importing necessary libraries.\n",
        "import pandas as pd\n",
        "import numpy as np\n",
        "import matplotlib.pyplot as plt\n",
        "import seaborn as sns\n",
        "from statistics import mode as stat_mode\n",
        "from datetime import datetime\n",
        "import matplotlib.pyplot as plt\n",
        "import seaborn as sns\n",
        "from sklearn.feature_selection import SelectKBest, f_regression\n",
        "from sklearn.model_selection import train_test_split, learning_curve, cross_val_score\n",
        "from xgboost import XGBRegressor\n",
        "from sklearn.metrics import mean_squared_error, r2_score\n",
        "import sklearn\n",
        "from mlxtend.plotting import plot_learning_curves\n",
        "from lightgbm import (LGBMRegressor, early_stopping)\n",
        "from scipy import stats"
      ]
    },
    {
      "cell_type": "code",
      "execution_count": null,
      "metadata": {
        "id": "mjc5Kuyy7ANP"
      },
      "outputs": [],
      "source": [
        "# dataset reference: https://www.kaggle.com/datasets/bhuvanchennoju/mobile-usage-time-prediction\n",
        "# Loading dataset\n",
        "data_customers = pd.read_csv(\"/content/dataset/customers.csv\")\n",
        "data_pings = pd.read_csv(\"/content/dataset/pings.csv\")\n",
        "data_test = pd.read_csv(\"/content/dataset/test.csv\")"
      ]
    },
    {
      "cell_type": "markdown",
      "source": [
        "## Data Exploration and Preprocessing<a id='top'></a>\n",
        "\n",
        "---\n",
        "\n",
        "\n"
      ],
      "metadata": {
        "id": "Lv5Con2jUgP4"
      }
    },
    {
      "cell_type": "markdown",
      "source": [
        "### Problem Statement and Data Overview\n",
        "#### ***Problem Statement***\n",
        "In this technological age, we are moving toward online communication, which has resulted in an increase in people's screen time all over the world, and we want to study, analyze, and predict the amount spent by a specific customer based on factors such as age, number of children, and smartphone device, to name a few.\n",
        "#### ***Data Overview***\n",
        "Data: USERS ACTIVE TIME PREDICTION\n",
        "\n",
        "The provided dataset consists of three files, the outline information is as per below.<br/>\n",
        "1.**customers.csv** - Contains customer's personal information. <br>\n",
        "-   id - the unique identifier for a customer\n",
        "*   gender - gender of a customer, possible values - Male and Female\n",
        "*   number_of_kids - the total number of kids a customer has as of collection of data\n",
        "*   smartphone_device - the brand of smartphone used by a customer\n",
        "*   internet_provider - customer's broadband service\n",
        "*   application_name - the name of the application, a customer was using during collection data.\n",
        "2.**pings.csv** - Contains the server pings for a customer\n",
        "*   id - the customer id for whom the ping is logged\n",
        "*   timestamp - the UNIX timestamp when the event is logged\n",
        "\n",
        "3.**test.csv** - Contains the server pings for a customer\n",
        "*   id - the customer id for whom the ping is logged\n",
        "*   date - the date for which we have to predict the number of hours\n",
        "*   onlinehours - the total number of hours spent on social media apps\n",
        "\n",
        "\n"
      ],
      "metadata": {
        "id": "hu8vpA4Hlu6y"
      }
    },
    {
      "cell_type": "code",
      "execution_count": null,
      "metadata": {
        "colab": {
          "base_uri": "https://localhost:8080/",
          "height": 449
        },
        "id": "gMYz6dOTGGgh",
        "outputId": "6c306ccf-c645-4b4c-c2df-741dd0c29e92"
      },
      "outputs": [
        {
          "output_type": "stream",
          "name": "stdout",
          "text": [
            "Customer Data\n"
          ]
        },
        {
          "output_type": "display_data",
          "data": {
            "text/plain": [
              "   Unnamed: 0      id gender  age  number_of_kids smartphone_device  \\\n",
              "0           0  979863   MALE   26               2            Google   \n",
              "1           1  780123   MALE   60               2             Apple   \n",
              "2           2  614848   MALE   45               4               TCL   \n",
              "3           3  775046   MALE   62               3             Nokia   \n",
              "4           4  991601   MALE   23               0             Apple   \n",
              "\n",
              "  internet_provider application_name  \n",
              "0              AT&T           TikTok  \n",
              "1            Rogers         Whatsapp  \n",
              "2         Jio Fiber           TikTok  \n",
              "3            Rogers        Instagram  \n",
              "4              Gtpl         Facebook  "
            ],
            "text/html": [
              "\n",
              "  <div id=\"df-bc625fd6-629d-43be-b646-ffdebc53b861\">\n",
              "    <div class=\"colab-df-container\">\n",
              "      <div>\n",
              "<style scoped>\n",
              "    .dataframe tbody tr th:only-of-type {\n",
              "        vertical-align: middle;\n",
              "    }\n",
              "\n",
              "    .dataframe tbody tr th {\n",
              "        vertical-align: top;\n",
              "    }\n",
              "\n",
              "    .dataframe thead th {\n",
              "        text-align: right;\n",
              "    }\n",
              "</style>\n",
              "<table border=\"1\" class=\"dataframe\">\n",
              "  <thead>\n",
              "    <tr style=\"text-align: right;\">\n",
              "      <th></th>\n",
              "      <th>Unnamed: 0</th>\n",
              "      <th>id</th>\n",
              "      <th>gender</th>\n",
              "      <th>age</th>\n",
              "      <th>number_of_kids</th>\n",
              "      <th>smartphone_device</th>\n",
              "      <th>internet_provider</th>\n",
              "      <th>application_name</th>\n",
              "    </tr>\n",
              "  </thead>\n",
              "  <tbody>\n",
              "    <tr>\n",
              "      <th>0</th>\n",
              "      <td>0</td>\n",
              "      <td>979863</td>\n",
              "      <td>MALE</td>\n",
              "      <td>26</td>\n",
              "      <td>2</td>\n",
              "      <td>Google</td>\n",
              "      <td>AT&amp;T</td>\n",
              "      <td>TikTok</td>\n",
              "    </tr>\n",
              "    <tr>\n",
              "      <th>1</th>\n",
              "      <td>1</td>\n",
              "      <td>780123</td>\n",
              "      <td>MALE</td>\n",
              "      <td>60</td>\n",
              "      <td>2</td>\n",
              "      <td>Apple</td>\n",
              "      <td>Rogers</td>\n",
              "      <td>Whatsapp</td>\n",
              "    </tr>\n",
              "    <tr>\n",
              "      <th>2</th>\n",
              "      <td>2</td>\n",
              "      <td>614848</td>\n",
              "      <td>MALE</td>\n",
              "      <td>45</td>\n",
              "      <td>4</td>\n",
              "      <td>TCL</td>\n",
              "      <td>Jio Fiber</td>\n",
              "      <td>TikTok</td>\n",
              "    </tr>\n",
              "    <tr>\n",
              "      <th>3</th>\n",
              "      <td>3</td>\n",
              "      <td>775046</td>\n",
              "      <td>MALE</td>\n",
              "      <td>62</td>\n",
              "      <td>3</td>\n",
              "      <td>Nokia</td>\n",
              "      <td>Rogers</td>\n",
              "      <td>Instagram</td>\n",
              "    </tr>\n",
              "    <tr>\n",
              "      <th>4</th>\n",
              "      <td>4</td>\n",
              "      <td>991601</td>\n",
              "      <td>MALE</td>\n",
              "      <td>23</td>\n",
              "      <td>0</td>\n",
              "      <td>Apple</td>\n",
              "      <td>Gtpl</td>\n",
              "      <td>Facebook</td>\n",
              "    </tr>\n",
              "  </tbody>\n",
              "</table>\n",
              "</div>\n",
              "      <button class=\"colab-df-convert\" onclick=\"convertToInteractive('df-bc625fd6-629d-43be-b646-ffdebc53b861')\"\n",
              "              title=\"Convert this dataframe to an interactive table.\"\n",
              "              style=\"display:none;\">\n",
              "        \n",
              "  <svg xmlns=\"http://www.w3.org/2000/svg\" height=\"24px\"viewBox=\"0 0 24 24\"\n",
              "       width=\"24px\">\n",
              "    <path d=\"M0 0h24v24H0V0z\" fill=\"none\"/>\n",
              "    <path d=\"M18.56 5.44l.94 2.06.94-2.06 2.06-.94-2.06-.94-.94-2.06-.94 2.06-2.06.94zm-11 1L8.5 8.5l.94-2.06 2.06-.94-2.06-.94L8.5 2.5l-.94 2.06-2.06.94zm10 10l.94 2.06.94-2.06 2.06-.94-2.06-.94-.94-2.06-.94 2.06-2.06.94z\"/><path d=\"M17.41 7.96l-1.37-1.37c-.4-.4-.92-.59-1.43-.59-.52 0-1.04.2-1.43.59L10.3 9.45l-7.72 7.72c-.78.78-.78 2.05 0 2.83L4 21.41c.39.39.9.59 1.41.59.51 0 1.02-.2 1.41-.59l7.78-7.78 2.81-2.81c.8-.78.8-2.07 0-2.86zM5.41 20L4 18.59l7.72-7.72 1.47 1.35L5.41 20z\"/>\n",
              "  </svg>\n",
              "      </button>\n",
              "      \n",
              "  <style>\n",
              "    .colab-df-container {\n",
              "      display:flex;\n",
              "      flex-wrap:wrap;\n",
              "      gap: 12px;\n",
              "    }\n",
              "\n",
              "    .colab-df-convert {\n",
              "      background-color: #E8F0FE;\n",
              "      border: none;\n",
              "      border-radius: 50%;\n",
              "      cursor: pointer;\n",
              "      display: none;\n",
              "      fill: #1967D2;\n",
              "      height: 32px;\n",
              "      padding: 0 0 0 0;\n",
              "      width: 32px;\n",
              "    }\n",
              "\n",
              "    .colab-df-convert:hover {\n",
              "      background-color: #E2EBFA;\n",
              "      box-shadow: 0px 1px 2px rgba(60, 64, 67, 0.3), 0px 1px 3px 1px rgba(60, 64, 67, 0.15);\n",
              "      fill: #174EA6;\n",
              "    }\n",
              "\n",
              "    [theme=dark] .colab-df-convert {\n",
              "      background-color: #3B4455;\n",
              "      fill: #D2E3FC;\n",
              "    }\n",
              "\n",
              "    [theme=dark] .colab-df-convert:hover {\n",
              "      background-color: #434B5C;\n",
              "      box-shadow: 0px 1px 3px 1px rgba(0, 0, 0, 0.15);\n",
              "      filter: drop-shadow(0px 1px 2px rgba(0, 0, 0, 0.3));\n",
              "      fill: #FFFFFF;\n",
              "    }\n",
              "  </style>\n",
              "\n",
              "      <script>\n",
              "        const buttonEl =\n",
              "          document.querySelector('#df-bc625fd6-629d-43be-b646-ffdebc53b861 button.colab-df-convert');\n",
              "        buttonEl.style.display =\n",
              "          google.colab.kernel.accessAllowed ? 'block' : 'none';\n",
              "\n",
              "        async function convertToInteractive(key) {\n",
              "          const element = document.querySelector('#df-bc625fd6-629d-43be-b646-ffdebc53b861');\n",
              "          const dataTable =\n",
              "            await google.colab.kernel.invokeFunction('convertToInteractive',\n",
              "                                                     [key], {});\n",
              "          if (!dataTable) return;\n",
              "\n",
              "          const docLinkHtml = 'Like what you see? Visit the ' +\n",
              "            '<a target=\"_blank\" href=https://colab.research.google.com/notebooks/data_table.ipynb>data table notebook</a>'\n",
              "            + ' to learn more about interactive tables.';\n",
              "          element.innerHTML = '';\n",
              "          dataTable['output_type'] = 'display_data';\n",
              "          await google.colab.output.renderOutput(dataTable, element);\n",
              "          const docLink = document.createElement('div');\n",
              "          docLink.innerHTML = docLinkHtml;\n",
              "          element.appendChild(docLink);\n",
              "        }\n",
              "      </script>\n",
              "    </div>\n",
              "  </div>\n",
              "  "
            ]
          },
          "metadata": {}
        },
        {
          "output_type": "stream",
          "name": "stdout",
          "text": [
            "\n",
            "Server pings data\n"
          ]
        },
        {
          "output_type": "display_data",
          "data": {
            "text/plain": [
              "       id   timestamp\n",
              "0  899313  1496278800\n",
              "1  373017  1496278800\n",
              "2  798984  1496278800\n",
              "3  245966  1496278800\n",
              "4  689783  1496278800"
            ],
            "text/html": [
              "\n",
              "  <div id=\"df-c364bdd0-ef7c-40c7-ab75-d6fcacdc9d37\">\n",
              "    <div class=\"colab-df-container\">\n",
              "      <div>\n",
              "<style scoped>\n",
              "    .dataframe tbody tr th:only-of-type {\n",
              "        vertical-align: middle;\n",
              "    }\n",
              "\n",
              "    .dataframe tbody tr th {\n",
              "        vertical-align: top;\n",
              "    }\n",
              "\n",
              "    .dataframe thead th {\n",
              "        text-align: right;\n",
              "    }\n",
              "</style>\n",
              "<table border=\"1\" class=\"dataframe\">\n",
              "  <thead>\n",
              "    <tr style=\"text-align: right;\">\n",
              "      <th></th>\n",
              "      <th>id</th>\n",
              "      <th>timestamp</th>\n",
              "    </tr>\n",
              "  </thead>\n",
              "  <tbody>\n",
              "    <tr>\n",
              "      <th>0</th>\n",
              "      <td>899313</td>\n",
              "      <td>1496278800</td>\n",
              "    </tr>\n",
              "    <tr>\n",
              "      <th>1</th>\n",
              "      <td>373017</td>\n",
              "      <td>1496278800</td>\n",
              "    </tr>\n",
              "    <tr>\n",
              "      <th>2</th>\n",
              "      <td>798984</td>\n",
              "      <td>1496278800</td>\n",
              "    </tr>\n",
              "    <tr>\n",
              "      <th>3</th>\n",
              "      <td>245966</td>\n",
              "      <td>1496278800</td>\n",
              "    </tr>\n",
              "    <tr>\n",
              "      <th>4</th>\n",
              "      <td>689783</td>\n",
              "      <td>1496278800</td>\n",
              "    </tr>\n",
              "  </tbody>\n",
              "</table>\n",
              "</div>\n",
              "      <button class=\"colab-df-convert\" onclick=\"convertToInteractive('df-c364bdd0-ef7c-40c7-ab75-d6fcacdc9d37')\"\n",
              "              title=\"Convert this dataframe to an interactive table.\"\n",
              "              style=\"display:none;\">\n",
              "        \n",
              "  <svg xmlns=\"http://www.w3.org/2000/svg\" height=\"24px\"viewBox=\"0 0 24 24\"\n",
              "       width=\"24px\">\n",
              "    <path d=\"M0 0h24v24H0V0z\" fill=\"none\"/>\n",
              "    <path d=\"M18.56 5.44l.94 2.06.94-2.06 2.06-.94-2.06-.94-.94-2.06-.94 2.06-2.06.94zm-11 1L8.5 8.5l.94-2.06 2.06-.94-2.06-.94L8.5 2.5l-.94 2.06-2.06.94zm10 10l.94 2.06.94-2.06 2.06-.94-2.06-.94-.94-2.06-.94 2.06-2.06.94z\"/><path d=\"M17.41 7.96l-1.37-1.37c-.4-.4-.92-.59-1.43-.59-.52 0-1.04.2-1.43.59L10.3 9.45l-7.72 7.72c-.78.78-.78 2.05 0 2.83L4 21.41c.39.39.9.59 1.41.59.51 0 1.02-.2 1.41-.59l7.78-7.78 2.81-2.81c.8-.78.8-2.07 0-2.86zM5.41 20L4 18.59l7.72-7.72 1.47 1.35L5.41 20z\"/>\n",
              "  </svg>\n",
              "      </button>\n",
              "      \n",
              "  <style>\n",
              "    .colab-df-container {\n",
              "      display:flex;\n",
              "      flex-wrap:wrap;\n",
              "      gap: 12px;\n",
              "    }\n",
              "\n",
              "    .colab-df-convert {\n",
              "      background-color: #E8F0FE;\n",
              "      border: none;\n",
              "      border-radius: 50%;\n",
              "      cursor: pointer;\n",
              "      display: none;\n",
              "      fill: #1967D2;\n",
              "      height: 32px;\n",
              "      padding: 0 0 0 0;\n",
              "      width: 32px;\n",
              "    }\n",
              "\n",
              "    .colab-df-convert:hover {\n",
              "      background-color: #E2EBFA;\n",
              "      box-shadow: 0px 1px 2px rgba(60, 64, 67, 0.3), 0px 1px 3px 1px rgba(60, 64, 67, 0.15);\n",
              "      fill: #174EA6;\n",
              "    }\n",
              "\n",
              "    [theme=dark] .colab-df-convert {\n",
              "      background-color: #3B4455;\n",
              "      fill: #D2E3FC;\n",
              "    }\n",
              "\n",
              "    [theme=dark] .colab-df-convert:hover {\n",
              "      background-color: #434B5C;\n",
              "      box-shadow: 0px 1px 3px 1px rgba(0, 0, 0, 0.15);\n",
              "      filter: drop-shadow(0px 1px 2px rgba(0, 0, 0, 0.3));\n",
              "      fill: #FFFFFF;\n",
              "    }\n",
              "  </style>\n",
              "\n",
              "      <script>\n",
              "        const buttonEl =\n",
              "          document.querySelector('#df-c364bdd0-ef7c-40c7-ab75-d6fcacdc9d37 button.colab-df-convert');\n",
              "        buttonEl.style.display =\n",
              "          google.colab.kernel.accessAllowed ? 'block' : 'none';\n",
              "\n",
              "        async function convertToInteractive(key) {\n",
              "          const element = document.querySelector('#df-c364bdd0-ef7c-40c7-ab75-d6fcacdc9d37');\n",
              "          const dataTable =\n",
              "            await google.colab.kernel.invokeFunction('convertToInteractive',\n",
              "                                                     [key], {});\n",
              "          if (!dataTable) return;\n",
              "\n",
              "          const docLinkHtml = 'Like what you see? Visit the ' +\n",
              "            '<a target=\"_blank\" href=https://colab.research.google.com/notebooks/data_table.ipynb>data table notebook</a>'\n",
              "            + ' to learn more about interactive tables.';\n",
              "          element.innerHTML = '';\n",
              "          dataTable['output_type'] = 'display_data';\n",
              "          await google.colab.output.renderOutput(dataTable, element);\n",
              "          const docLink = document.createElement('div');\n",
              "          docLink.innerHTML = docLinkHtml;\n",
              "          element.appendChild(docLink);\n",
              "        }\n",
              "      </script>\n",
              "    </div>\n",
              "  </div>\n",
              "  "
            ]
          },
          "metadata": {}
        }
      ],
      "source": [
        "# Getting an overview of the dataset\n",
        "print('Customer Data')\n",
        "display(data_customers.head(5))\n",
        "print('\\nServer pings data')\n",
        "display(data_pings.head(5))"
      ]
    },
    {
      "cell_type": "code",
      "execution_count": null,
      "metadata": {
        "colab": {
          "base_uri": "https://localhost:8080/"
        },
        "id": "vvEuXYCEK-Qf",
        "outputId": "0dea1efe-0593-47cd-cded-852ff73a97da"
      },
      "outputs": [
        {
          "output_type": "execute_result",
          "data": {
            "text/plain": [
              "Unnamed: 0            int64\n",
              "id                    int64\n",
              "gender               object\n",
              "age                   int64\n",
              "number_of_kids        int64\n",
              "smartphone_device    object\n",
              "internet_provider    object\n",
              "application_name     object\n",
              "dtype: object"
            ]
          },
          "metadata": {},
          "execution_count": 8
        }
      ],
      "source": [
        "data_customers.dtypes "
      ]
    },
    {
      "cell_type": "markdown",
      "source": [
        "### **Data Quality Report**\n",
        "\n",
        "---\n",
        "\n",
        "\n",
        "As the dataset is a mix bag of continuous and categorical data, we have to analyze both separately. We will use max_values, min_values for continuous data and mode for categorical data, along with computing the missing data, data types and unique values.\n",
        "\n",
        "For the continuous side of things, we find that there are no missing values in the features age and number of kids. The age ranges from 18 to 75, which seems normal in terms of social media app usage and the number of children range from no children to 4 children.\n",
        "\n",
        "On the categorical side of things, we have gender, smartphone_device, internet_provider and application_name. The majority gender in the dataset is Male, the preffered mobile brand among the sample is Apple and the internet_provider is AT&T with TikTok leading among the app usage. One thing to notice here are the missing values in the internet provider field, which wil be covered in the Data Issues part of this notebook.\n"
      ],
      "metadata": {
        "id": "s3imAWAuidT1"
      }
    },
    {
      "cell_type": "code",
      "execution_count": null,
      "metadata": {
        "id": "aqQlJz9WLW1H"
      },
      "outputs": [],
      "source": [
        "# Building a data quality report for continuous features\n",
        "def continuous_data_quality_report(data):\n",
        "  data_types = pd.DataFrame(data.dtypes, columns=['Data Type'])\n",
        "  missing_data = pd.DataFrame(data.isnull().sum(), columns=['Missing Values'])\n",
        "  unique_values = pd.DataFrame(columns=['Unique Values'])\n",
        "  max_values = pd.DataFrame(columns=['Maximum Values'])\n",
        "  min_values = pd.DataFrame(columns=['Minimum Values'])\n",
        "  # Iterating through all values \n",
        "  for entry in list(data.columns.values):\n",
        "      unique_values.loc[entry] = [data[entry].nunique()]\n",
        "      max_values.loc[entry] = [data[entry].max()]\n",
        "      min_values.loc[entry] = [data[entry].min()]\n",
        "  # Combining Data\n",
        "  report = data_types.join(missing_data).join(unique_values).join(max_values).join(min_values)\n",
        "  return report"
      ]
    },
    {
      "cell_type": "code",
      "source": [
        "# Building a data quality report for categorical features\n",
        "def categorical_data_quality_report(data):\n",
        "  data_types = pd.DataFrame(data.dtypes, columns=['Data Type'])\n",
        "  missing_data = pd.DataFrame(data.isnull().sum(), columns=['Missing Values'])\n",
        "  unique_values = pd.DataFrame(columns=['Unique Values'])\n",
        "  mode = pd.DataFrame(columns=['Mode'])\n",
        "  # Iterating through all values \n",
        "  for entry in list(data.columns.values):\n",
        "      unique_values.loc[entry] = [data[entry].nunique()]\n",
        "      mode.loc[entry] = [stat_mode(data[entry])]\n",
        "  # Combining Data\n",
        "  report = data_types.join(missing_data).join(unique_values).join(mode);\n",
        "  return report"
      ],
      "metadata": {
        "id": "18srAbXSWP4p"
      },
      "execution_count": null,
      "outputs": []
    },
    {
      "cell_type": "code",
      "execution_count": null,
      "metadata": {
        "colab": {
          "base_uri": "https://localhost:8080/",
          "height": 359
        },
        "id": "PiJv_YK5GqVX",
        "outputId": "afa5b38f-a73a-4d12-b65c-17d40448536c"
      },
      "outputs": [
        {
          "output_type": "stream",
          "name": "stdout",
          "text": [
            "Data Quality Report for Continuous Features\n",
            "Continuous Feature Length:  2500\n"
          ]
        },
        {
          "output_type": "display_data",
          "data": {
            "text/plain": [
              "               Data Type  Missing Values Unique Values Maximum Values  \\\n",
              "age                int64               0            58             75   \n",
              "number_of_kids     int64               0             5              4   \n",
              "\n",
              "               Minimum Values  \n",
              "age                        18  \n",
              "number_of_kids              0  "
            ],
            "text/html": [
              "\n",
              "  <div id=\"df-34bd77b8-b0bb-4aff-a4a4-33c15e75f11c\">\n",
              "    <div class=\"colab-df-container\">\n",
              "      <div>\n",
              "<style scoped>\n",
              "    .dataframe tbody tr th:only-of-type {\n",
              "        vertical-align: middle;\n",
              "    }\n",
              "\n",
              "    .dataframe tbody tr th {\n",
              "        vertical-align: top;\n",
              "    }\n",
              "\n",
              "    .dataframe thead th {\n",
              "        text-align: right;\n",
              "    }\n",
              "</style>\n",
              "<table border=\"1\" class=\"dataframe\">\n",
              "  <thead>\n",
              "    <tr style=\"text-align: right;\">\n",
              "      <th></th>\n",
              "      <th>Data Type</th>\n",
              "      <th>Missing Values</th>\n",
              "      <th>Unique Values</th>\n",
              "      <th>Maximum Values</th>\n",
              "      <th>Minimum Values</th>\n",
              "    </tr>\n",
              "  </thead>\n",
              "  <tbody>\n",
              "    <tr>\n",
              "      <th>age</th>\n",
              "      <td>int64</td>\n",
              "      <td>0</td>\n",
              "      <td>58</td>\n",
              "      <td>75</td>\n",
              "      <td>18</td>\n",
              "    </tr>\n",
              "    <tr>\n",
              "      <th>number_of_kids</th>\n",
              "      <td>int64</td>\n",
              "      <td>0</td>\n",
              "      <td>5</td>\n",
              "      <td>4</td>\n",
              "      <td>0</td>\n",
              "    </tr>\n",
              "  </tbody>\n",
              "</table>\n",
              "</div>\n",
              "      <button class=\"colab-df-convert\" onclick=\"convertToInteractive('df-34bd77b8-b0bb-4aff-a4a4-33c15e75f11c')\"\n",
              "              title=\"Convert this dataframe to an interactive table.\"\n",
              "              style=\"display:none;\">\n",
              "        \n",
              "  <svg xmlns=\"http://www.w3.org/2000/svg\" height=\"24px\"viewBox=\"0 0 24 24\"\n",
              "       width=\"24px\">\n",
              "    <path d=\"M0 0h24v24H0V0z\" fill=\"none\"/>\n",
              "    <path d=\"M18.56 5.44l.94 2.06.94-2.06 2.06-.94-2.06-.94-.94-2.06-.94 2.06-2.06.94zm-11 1L8.5 8.5l.94-2.06 2.06-.94-2.06-.94L8.5 2.5l-.94 2.06-2.06.94zm10 10l.94 2.06.94-2.06 2.06-.94-2.06-.94-.94-2.06-.94 2.06-2.06.94z\"/><path d=\"M17.41 7.96l-1.37-1.37c-.4-.4-.92-.59-1.43-.59-.52 0-1.04.2-1.43.59L10.3 9.45l-7.72 7.72c-.78.78-.78 2.05 0 2.83L4 21.41c.39.39.9.59 1.41.59.51 0 1.02-.2 1.41-.59l7.78-7.78 2.81-2.81c.8-.78.8-2.07 0-2.86zM5.41 20L4 18.59l7.72-7.72 1.47 1.35L5.41 20z\"/>\n",
              "  </svg>\n",
              "      </button>\n",
              "      \n",
              "  <style>\n",
              "    .colab-df-container {\n",
              "      display:flex;\n",
              "      flex-wrap:wrap;\n",
              "      gap: 12px;\n",
              "    }\n",
              "\n",
              "    .colab-df-convert {\n",
              "      background-color: #E8F0FE;\n",
              "      border: none;\n",
              "      border-radius: 50%;\n",
              "      cursor: pointer;\n",
              "      display: none;\n",
              "      fill: #1967D2;\n",
              "      height: 32px;\n",
              "      padding: 0 0 0 0;\n",
              "      width: 32px;\n",
              "    }\n",
              "\n",
              "    .colab-df-convert:hover {\n",
              "      background-color: #E2EBFA;\n",
              "      box-shadow: 0px 1px 2px rgba(60, 64, 67, 0.3), 0px 1px 3px 1px rgba(60, 64, 67, 0.15);\n",
              "      fill: #174EA6;\n",
              "    }\n",
              "\n",
              "    [theme=dark] .colab-df-convert {\n",
              "      background-color: #3B4455;\n",
              "      fill: #D2E3FC;\n",
              "    }\n",
              "\n",
              "    [theme=dark] .colab-df-convert:hover {\n",
              "      background-color: #434B5C;\n",
              "      box-shadow: 0px 1px 3px 1px rgba(0, 0, 0, 0.15);\n",
              "      filter: drop-shadow(0px 1px 2px rgba(0, 0, 0, 0.3));\n",
              "      fill: #FFFFFF;\n",
              "    }\n",
              "  </style>\n",
              "\n",
              "      <script>\n",
              "        const buttonEl =\n",
              "          document.querySelector('#df-34bd77b8-b0bb-4aff-a4a4-33c15e75f11c button.colab-df-convert');\n",
              "        buttonEl.style.display =\n",
              "          google.colab.kernel.accessAllowed ? 'block' : 'none';\n",
              "\n",
              "        async function convertToInteractive(key) {\n",
              "          const element = document.querySelector('#df-34bd77b8-b0bb-4aff-a4a4-33c15e75f11c');\n",
              "          const dataTable =\n",
              "            await google.colab.kernel.invokeFunction('convertToInteractive',\n",
              "                                                     [key], {});\n",
              "          if (!dataTable) return;\n",
              "\n",
              "          const docLinkHtml = 'Like what you see? Visit the ' +\n",
              "            '<a target=\"_blank\" href=https://colab.research.google.com/notebooks/data_table.ipynb>data table notebook</a>'\n",
              "            + ' to learn more about interactive tables.';\n",
              "          element.innerHTML = '';\n",
              "          dataTable['output_type'] = 'display_data';\n",
              "          await google.colab.output.renderOutput(dataTable, element);\n",
              "          const docLink = document.createElement('div');\n",
              "          docLink.innerHTML = docLinkHtml;\n",
              "          element.appendChild(docLink);\n",
              "        }\n",
              "      </script>\n",
              "    </div>\n",
              "  </div>\n",
              "  "
            ]
          },
          "metadata": {}
        },
        {
          "output_type": "stream",
          "name": "stdout",
          "text": [
            "\n",
            "Data Quality Report for Categorical Features\n",
            "Categorical Feature Length:  2500\n"
          ]
        },
        {
          "output_type": "display_data",
          "data": {
            "text/plain": [
              "                  Data Type  Missing Values Unique Values    Mode\n",
              "gender               object               0             2    MALE\n",
              "smartphone_device    object               0            12   Apple\n",
              "internet_provider    object             127            11    Bell\n",
              "application_name     object               0             6  TikTok"
            ],
            "text/html": [
              "\n",
              "  <div id=\"df-9c334caf-f15b-425c-86bf-f038ea578146\">\n",
              "    <div class=\"colab-df-container\">\n",
              "      <div>\n",
              "<style scoped>\n",
              "    .dataframe tbody tr th:only-of-type {\n",
              "        vertical-align: middle;\n",
              "    }\n",
              "\n",
              "    .dataframe tbody tr th {\n",
              "        vertical-align: top;\n",
              "    }\n",
              "\n",
              "    .dataframe thead th {\n",
              "        text-align: right;\n",
              "    }\n",
              "</style>\n",
              "<table border=\"1\" class=\"dataframe\">\n",
              "  <thead>\n",
              "    <tr style=\"text-align: right;\">\n",
              "      <th></th>\n",
              "      <th>Data Type</th>\n",
              "      <th>Missing Values</th>\n",
              "      <th>Unique Values</th>\n",
              "      <th>Mode</th>\n",
              "    </tr>\n",
              "  </thead>\n",
              "  <tbody>\n",
              "    <tr>\n",
              "      <th>gender</th>\n",
              "      <td>object</td>\n",
              "      <td>0</td>\n",
              "      <td>2</td>\n",
              "      <td>MALE</td>\n",
              "    </tr>\n",
              "    <tr>\n",
              "      <th>smartphone_device</th>\n",
              "      <td>object</td>\n",
              "      <td>0</td>\n",
              "      <td>12</td>\n",
              "      <td>Apple</td>\n",
              "    </tr>\n",
              "    <tr>\n",
              "      <th>internet_provider</th>\n",
              "      <td>object</td>\n",
              "      <td>127</td>\n",
              "      <td>11</td>\n",
              "      <td>Bell</td>\n",
              "    </tr>\n",
              "    <tr>\n",
              "      <th>application_name</th>\n",
              "      <td>object</td>\n",
              "      <td>0</td>\n",
              "      <td>6</td>\n",
              "      <td>TikTok</td>\n",
              "    </tr>\n",
              "  </tbody>\n",
              "</table>\n",
              "</div>\n",
              "      <button class=\"colab-df-convert\" onclick=\"convertToInteractive('df-9c334caf-f15b-425c-86bf-f038ea578146')\"\n",
              "              title=\"Convert this dataframe to an interactive table.\"\n",
              "              style=\"display:none;\">\n",
              "        \n",
              "  <svg xmlns=\"http://www.w3.org/2000/svg\" height=\"24px\"viewBox=\"0 0 24 24\"\n",
              "       width=\"24px\">\n",
              "    <path d=\"M0 0h24v24H0V0z\" fill=\"none\"/>\n",
              "    <path d=\"M18.56 5.44l.94 2.06.94-2.06 2.06-.94-2.06-.94-.94-2.06-.94 2.06-2.06.94zm-11 1L8.5 8.5l.94-2.06 2.06-.94-2.06-.94L8.5 2.5l-.94 2.06-2.06.94zm10 10l.94 2.06.94-2.06 2.06-.94-2.06-.94-.94-2.06-.94 2.06-2.06.94z\"/><path d=\"M17.41 7.96l-1.37-1.37c-.4-.4-.92-.59-1.43-.59-.52 0-1.04.2-1.43.59L10.3 9.45l-7.72 7.72c-.78.78-.78 2.05 0 2.83L4 21.41c.39.39.9.59 1.41.59.51 0 1.02-.2 1.41-.59l7.78-7.78 2.81-2.81c.8-.78.8-2.07 0-2.86zM5.41 20L4 18.59l7.72-7.72 1.47 1.35L5.41 20z\"/>\n",
              "  </svg>\n",
              "      </button>\n",
              "      \n",
              "  <style>\n",
              "    .colab-df-container {\n",
              "      display:flex;\n",
              "      flex-wrap:wrap;\n",
              "      gap: 12px;\n",
              "    }\n",
              "\n",
              "    .colab-df-convert {\n",
              "      background-color: #E8F0FE;\n",
              "      border: none;\n",
              "      border-radius: 50%;\n",
              "      cursor: pointer;\n",
              "      display: none;\n",
              "      fill: #1967D2;\n",
              "      height: 32px;\n",
              "      padding: 0 0 0 0;\n",
              "      width: 32px;\n",
              "    }\n",
              "\n",
              "    .colab-df-convert:hover {\n",
              "      background-color: #E2EBFA;\n",
              "      box-shadow: 0px 1px 2px rgba(60, 64, 67, 0.3), 0px 1px 3px 1px rgba(60, 64, 67, 0.15);\n",
              "      fill: #174EA6;\n",
              "    }\n",
              "\n",
              "    [theme=dark] .colab-df-convert {\n",
              "      background-color: #3B4455;\n",
              "      fill: #D2E3FC;\n",
              "    }\n",
              "\n",
              "    [theme=dark] .colab-df-convert:hover {\n",
              "      background-color: #434B5C;\n",
              "      box-shadow: 0px 1px 3px 1px rgba(0, 0, 0, 0.15);\n",
              "      filter: drop-shadow(0px 1px 2px rgba(0, 0, 0, 0.3));\n",
              "      fill: #FFFFFF;\n",
              "    }\n",
              "  </style>\n",
              "\n",
              "      <script>\n",
              "        const buttonEl =\n",
              "          document.querySelector('#df-9c334caf-f15b-425c-86bf-f038ea578146 button.colab-df-convert');\n",
              "        buttonEl.style.display =\n",
              "          google.colab.kernel.accessAllowed ? 'block' : 'none';\n",
              "\n",
              "        async function convertToInteractive(key) {\n",
              "          const element = document.querySelector('#df-9c334caf-f15b-425c-86bf-f038ea578146');\n",
              "          const dataTable =\n",
              "            await google.colab.kernel.invokeFunction('convertToInteractive',\n",
              "                                                     [key], {});\n",
              "          if (!dataTable) return;\n",
              "\n",
              "          const docLinkHtml = 'Like what you see? Visit the ' +\n",
              "            '<a target=\"_blank\" href=https://colab.research.google.com/notebooks/data_table.ipynb>data table notebook</a>'\n",
              "            + ' to learn more about interactive tables.';\n",
              "          element.innerHTML = '';\n",
              "          dataTable['output_type'] = 'display_data';\n",
              "          await google.colab.output.renderOutput(dataTable, element);\n",
              "          const docLink = document.createElement('div');\n",
              "          docLink.innerHTML = docLinkHtml;\n",
              "          element.appendChild(docLink);\n",
              "        }\n",
              "      </script>\n",
              "    </div>\n",
              "  </div>\n",
              "  "
            ]
          },
          "metadata": {}
        }
      ],
      "source": [
        "data_customers_continuous = data_customers[['age','number_of_kids']];\n",
        "data_customers_categorical = data_customers[['gender','smartphone_device','internet_provider','application_name']];\n",
        "\n",
        "continuous_report = continuous_data_quality_report(data_customers_continuous);\n",
        "categorical_report = categorical_data_quality_report(data_customers_categorical);\n",
        "\n",
        "print('Data Quality Report for Continuous Features');\n",
        "print('Continuous Feature Length: ',len(data_customers_continuous));\n",
        "display(continuous_report);\n",
        "\n",
        "print('\\nData Quality Report for Categorical Features');\n",
        "print('Categorical Feature Length: ',len(data_customers_categorical));\n",
        "display(categorical_report)"
      ]
    },
    {
      "cell_type": "markdown",
      "metadata": {
        "id": "2O4wRe9vO2gu"
      },
      "source": [
        "### **Data Quality Issues**\n",
        "\n",
        "---\n",
        "\n",
        "\n",
        "\n",
        "1. The dataset contains a duplicate index column called 'Unnamed: 0', we have to remove that before processing. \n",
        "2. We have customer id in the customers dataframe and in the pings dataframe, which is irrelevant but, we cannot remove it until we perform a groupby based on customer_id for model training.\n",
        "3. Gender is a categorical ('MALE','FEMALE'), we need to do one hot encoding.\n",
        "4. There are some missing values in the internet_provider field and we will replace such columns by mode.\n",
        "5. In the pings the dataframe, we have timestamp which cannot be used for model training as , we need to convert it to more interpretable fields for model training."
      ]
    },
    {
      "cell_type": "code",
      "execution_count": null,
      "metadata": {
        "id": "k9xkyV1RJhJU"
      },
      "outputs": [],
      "source": [
        "data_customers.columns\n",
        "df_customers_process = data_customers.copy(deep=True)"
      ]
    },
    {
      "cell_type": "code",
      "execution_count": null,
      "metadata": {
        "colab": {
          "base_uri": "https://localhost:8080/"
        },
        "id": "KrJnhcM6ZY6t",
        "outputId": "65665ae5-3093-4023-8366-29963bd63b7b"
      },
      "outputs": [
        {
          "output_type": "execute_result",
          "data": {
            "text/plain": [
              "Index(['id', 'gender', 'age', 'number_of_kids', 'smartphone_device',\n",
              "       'internet_provider', 'application_name'],\n",
              "      dtype='object')"
            ]
          },
          "metadata": {},
          "execution_count": 12
        }
      ],
      "source": [
        "# Dropping the irrelevant Unnamed: 0 column from the dataset\n",
        "df_customers_process.drop(labels=['Unnamed: 0'],inplace=True,axis=1)\n",
        "df_customers_process.columns"
      ]
    },
    {
      "cell_type": "code",
      "execution_count": null,
      "metadata": {
        "colab": {
          "base_uri": "https://localhost:8080/",
          "height": 206
        },
        "id": "BwG_HkpaWRrw",
        "outputId": "fc473481-c8e9-4977-b677-896898d7cd1c"
      },
      "outputs": [
        {
          "output_type": "display_data",
          "data": {
            "text/plain": [
              "       id  gender  age  number_of_kids smartphone_device internet_provider  \\\n",
              "0  979863       1   26               2            Google              AT&T   \n",
              "1  780123       1   60               2             Apple            Rogers   \n",
              "2  614848       1   45               4               TCL         Jio Fiber   \n",
              "3  775046       1   62               3             Nokia            Rogers   \n",
              "4  991601       1   23               0             Apple              Gtpl   \n",
              "\n",
              "  application_name  \n",
              "0           TikTok  \n",
              "1         Whatsapp  \n",
              "2           TikTok  \n",
              "3        Instagram  \n",
              "4         Facebook  "
            ],
            "text/html": [
              "\n",
              "  <div id=\"df-547d9584-1a73-4ea7-8b69-d79f5a01d585\">\n",
              "    <div class=\"colab-df-container\">\n",
              "      <div>\n",
              "<style scoped>\n",
              "    .dataframe tbody tr th:only-of-type {\n",
              "        vertical-align: middle;\n",
              "    }\n",
              "\n",
              "    .dataframe tbody tr th {\n",
              "        vertical-align: top;\n",
              "    }\n",
              "\n",
              "    .dataframe thead th {\n",
              "        text-align: right;\n",
              "    }\n",
              "</style>\n",
              "<table border=\"1\" class=\"dataframe\">\n",
              "  <thead>\n",
              "    <tr style=\"text-align: right;\">\n",
              "      <th></th>\n",
              "      <th>id</th>\n",
              "      <th>gender</th>\n",
              "      <th>age</th>\n",
              "      <th>number_of_kids</th>\n",
              "      <th>smartphone_device</th>\n",
              "      <th>internet_provider</th>\n",
              "      <th>application_name</th>\n",
              "    </tr>\n",
              "  </thead>\n",
              "  <tbody>\n",
              "    <tr>\n",
              "      <th>0</th>\n",
              "      <td>979863</td>\n",
              "      <td>1</td>\n",
              "      <td>26</td>\n",
              "      <td>2</td>\n",
              "      <td>Google</td>\n",
              "      <td>AT&amp;T</td>\n",
              "      <td>TikTok</td>\n",
              "    </tr>\n",
              "    <tr>\n",
              "      <th>1</th>\n",
              "      <td>780123</td>\n",
              "      <td>1</td>\n",
              "      <td>60</td>\n",
              "      <td>2</td>\n",
              "      <td>Apple</td>\n",
              "      <td>Rogers</td>\n",
              "      <td>Whatsapp</td>\n",
              "    </tr>\n",
              "    <tr>\n",
              "      <th>2</th>\n",
              "      <td>614848</td>\n",
              "      <td>1</td>\n",
              "      <td>45</td>\n",
              "      <td>4</td>\n",
              "      <td>TCL</td>\n",
              "      <td>Jio Fiber</td>\n",
              "      <td>TikTok</td>\n",
              "    </tr>\n",
              "    <tr>\n",
              "      <th>3</th>\n",
              "      <td>775046</td>\n",
              "      <td>1</td>\n",
              "      <td>62</td>\n",
              "      <td>3</td>\n",
              "      <td>Nokia</td>\n",
              "      <td>Rogers</td>\n",
              "      <td>Instagram</td>\n",
              "    </tr>\n",
              "    <tr>\n",
              "      <th>4</th>\n",
              "      <td>991601</td>\n",
              "      <td>1</td>\n",
              "      <td>23</td>\n",
              "      <td>0</td>\n",
              "      <td>Apple</td>\n",
              "      <td>Gtpl</td>\n",
              "      <td>Facebook</td>\n",
              "    </tr>\n",
              "  </tbody>\n",
              "</table>\n",
              "</div>\n",
              "      <button class=\"colab-df-convert\" onclick=\"convertToInteractive('df-547d9584-1a73-4ea7-8b69-d79f5a01d585')\"\n",
              "              title=\"Convert this dataframe to an interactive table.\"\n",
              "              style=\"display:none;\">\n",
              "        \n",
              "  <svg xmlns=\"http://www.w3.org/2000/svg\" height=\"24px\"viewBox=\"0 0 24 24\"\n",
              "       width=\"24px\">\n",
              "    <path d=\"M0 0h24v24H0V0z\" fill=\"none\"/>\n",
              "    <path d=\"M18.56 5.44l.94 2.06.94-2.06 2.06-.94-2.06-.94-.94-2.06-.94 2.06-2.06.94zm-11 1L8.5 8.5l.94-2.06 2.06-.94-2.06-.94L8.5 2.5l-.94 2.06-2.06.94zm10 10l.94 2.06.94-2.06 2.06-.94-2.06-.94-.94-2.06-.94 2.06-2.06.94z\"/><path d=\"M17.41 7.96l-1.37-1.37c-.4-.4-.92-.59-1.43-.59-.52 0-1.04.2-1.43.59L10.3 9.45l-7.72 7.72c-.78.78-.78 2.05 0 2.83L4 21.41c.39.39.9.59 1.41.59.51 0 1.02-.2 1.41-.59l7.78-7.78 2.81-2.81c.8-.78.8-2.07 0-2.86zM5.41 20L4 18.59l7.72-7.72 1.47 1.35L5.41 20z\"/>\n",
              "  </svg>\n",
              "      </button>\n",
              "      \n",
              "  <style>\n",
              "    .colab-df-container {\n",
              "      display:flex;\n",
              "      flex-wrap:wrap;\n",
              "      gap: 12px;\n",
              "    }\n",
              "\n",
              "    .colab-df-convert {\n",
              "      background-color: #E8F0FE;\n",
              "      border: none;\n",
              "      border-radius: 50%;\n",
              "      cursor: pointer;\n",
              "      display: none;\n",
              "      fill: #1967D2;\n",
              "      height: 32px;\n",
              "      padding: 0 0 0 0;\n",
              "      width: 32px;\n",
              "    }\n",
              "\n",
              "    .colab-df-convert:hover {\n",
              "      background-color: #E2EBFA;\n",
              "      box-shadow: 0px 1px 2px rgba(60, 64, 67, 0.3), 0px 1px 3px 1px rgba(60, 64, 67, 0.15);\n",
              "      fill: #174EA6;\n",
              "    }\n",
              "\n",
              "    [theme=dark] .colab-df-convert {\n",
              "      background-color: #3B4455;\n",
              "      fill: #D2E3FC;\n",
              "    }\n",
              "\n",
              "    [theme=dark] .colab-df-convert:hover {\n",
              "      background-color: #434B5C;\n",
              "      box-shadow: 0px 1px 3px 1px rgba(0, 0, 0, 0.15);\n",
              "      filter: drop-shadow(0px 1px 2px rgba(0, 0, 0, 0.3));\n",
              "      fill: #FFFFFF;\n",
              "    }\n",
              "  </style>\n",
              "\n",
              "      <script>\n",
              "        const buttonEl =\n",
              "          document.querySelector('#df-547d9584-1a73-4ea7-8b69-d79f5a01d585 button.colab-df-convert');\n",
              "        buttonEl.style.display =\n",
              "          google.colab.kernel.accessAllowed ? 'block' : 'none';\n",
              "\n",
              "        async function convertToInteractive(key) {\n",
              "          const element = document.querySelector('#df-547d9584-1a73-4ea7-8b69-d79f5a01d585');\n",
              "          const dataTable =\n",
              "            await google.colab.kernel.invokeFunction('convertToInteractive',\n",
              "                                                     [key], {});\n",
              "          if (!dataTable) return;\n",
              "\n",
              "          const docLinkHtml = 'Like what you see? Visit the ' +\n",
              "            '<a target=\"_blank\" href=https://colab.research.google.com/notebooks/data_table.ipynb>data table notebook</a>'\n",
              "            + ' to learn more about interactive tables.';\n",
              "          element.innerHTML = '';\n",
              "          dataTable['output_type'] = 'display_data';\n",
              "          await google.colab.output.renderOutput(dataTable, element);\n",
              "          const docLink = document.createElement('div');\n",
              "          docLink.innerHTML = docLinkHtml;\n",
              "          element.appendChild(docLink);\n",
              "        }\n",
              "      </script>\n",
              "    </div>\n",
              "  </div>\n",
              "  "
            ]
          },
          "metadata": {}
        }
      ],
      "source": [
        "# Performing one hot encoding for age\n",
        "df_customers_process['gender'] = df_customers_process['gender'].replace(to_replace=['MALE', 'FEMALE'], value=[1,0])\n",
        "display(df_customers_process.head(5))"
      ]
    },
    {
      "cell_type": "code",
      "execution_count": null,
      "metadata": {
        "colab": {
          "base_uri": "https://localhost:8080/",
          "height": 224
        },
        "id": "tFm16K4-Zo7R",
        "outputId": "21db73a7-10c8-42f2-9b7f-9b996b7e6d1d"
      },
      "outputs": [
        {
          "output_type": "stream",
          "name": "stdout",
          "text": [
            "Missing values: 127\n"
          ]
        },
        {
          "output_type": "display_data",
          "data": {
            "text/plain": [
              "         id  gender  age  number_of_kids smartphone_device internet_provider  \\\n",
              "57   832945       1   18               0          Motorola               NaN   \n",
              "67   199192       1   31               4             Apple               NaN   \n",
              "85   982846       1   31               4          Motorola               NaN   \n",
              "86   831323       0   47               0            Xiaomi               NaN   \n",
              "111  346754       0   22               1           OnePlus               NaN   \n",
              "\n",
              "    application_name  \n",
              "57          Facebook  \n",
              "67         Instagram  \n",
              "85           Youtube  \n",
              "86           Youtube  \n",
              "111         Facebook  "
            ],
            "text/html": [
              "\n",
              "  <div id=\"df-7f9e6d67-13c3-4b0e-8675-ed31df3480a7\">\n",
              "    <div class=\"colab-df-container\">\n",
              "      <div>\n",
              "<style scoped>\n",
              "    .dataframe tbody tr th:only-of-type {\n",
              "        vertical-align: middle;\n",
              "    }\n",
              "\n",
              "    .dataframe tbody tr th {\n",
              "        vertical-align: top;\n",
              "    }\n",
              "\n",
              "    .dataframe thead th {\n",
              "        text-align: right;\n",
              "    }\n",
              "</style>\n",
              "<table border=\"1\" class=\"dataframe\">\n",
              "  <thead>\n",
              "    <tr style=\"text-align: right;\">\n",
              "      <th></th>\n",
              "      <th>id</th>\n",
              "      <th>gender</th>\n",
              "      <th>age</th>\n",
              "      <th>number_of_kids</th>\n",
              "      <th>smartphone_device</th>\n",
              "      <th>internet_provider</th>\n",
              "      <th>application_name</th>\n",
              "    </tr>\n",
              "  </thead>\n",
              "  <tbody>\n",
              "    <tr>\n",
              "      <th>57</th>\n",
              "      <td>832945</td>\n",
              "      <td>1</td>\n",
              "      <td>18</td>\n",
              "      <td>0</td>\n",
              "      <td>Motorola</td>\n",
              "      <td>NaN</td>\n",
              "      <td>Facebook</td>\n",
              "    </tr>\n",
              "    <tr>\n",
              "      <th>67</th>\n",
              "      <td>199192</td>\n",
              "      <td>1</td>\n",
              "      <td>31</td>\n",
              "      <td>4</td>\n",
              "      <td>Apple</td>\n",
              "      <td>NaN</td>\n",
              "      <td>Instagram</td>\n",
              "    </tr>\n",
              "    <tr>\n",
              "      <th>85</th>\n",
              "      <td>982846</td>\n",
              "      <td>1</td>\n",
              "      <td>31</td>\n",
              "      <td>4</td>\n",
              "      <td>Motorola</td>\n",
              "      <td>NaN</td>\n",
              "      <td>Youtube</td>\n",
              "    </tr>\n",
              "    <tr>\n",
              "      <th>86</th>\n",
              "      <td>831323</td>\n",
              "      <td>0</td>\n",
              "      <td>47</td>\n",
              "      <td>0</td>\n",
              "      <td>Xiaomi</td>\n",
              "      <td>NaN</td>\n",
              "      <td>Youtube</td>\n",
              "    </tr>\n",
              "    <tr>\n",
              "      <th>111</th>\n",
              "      <td>346754</td>\n",
              "      <td>0</td>\n",
              "      <td>22</td>\n",
              "      <td>1</td>\n",
              "      <td>OnePlus</td>\n",
              "      <td>NaN</td>\n",
              "      <td>Facebook</td>\n",
              "    </tr>\n",
              "  </tbody>\n",
              "</table>\n",
              "</div>\n",
              "      <button class=\"colab-df-convert\" onclick=\"convertToInteractive('df-7f9e6d67-13c3-4b0e-8675-ed31df3480a7')\"\n",
              "              title=\"Convert this dataframe to an interactive table.\"\n",
              "              style=\"display:none;\">\n",
              "        \n",
              "  <svg xmlns=\"http://www.w3.org/2000/svg\" height=\"24px\"viewBox=\"0 0 24 24\"\n",
              "       width=\"24px\">\n",
              "    <path d=\"M0 0h24v24H0V0z\" fill=\"none\"/>\n",
              "    <path d=\"M18.56 5.44l.94 2.06.94-2.06 2.06-.94-2.06-.94-.94-2.06-.94 2.06-2.06.94zm-11 1L8.5 8.5l.94-2.06 2.06-.94-2.06-.94L8.5 2.5l-.94 2.06-2.06.94zm10 10l.94 2.06.94-2.06 2.06-.94-2.06-.94-.94-2.06-.94 2.06-2.06.94z\"/><path d=\"M17.41 7.96l-1.37-1.37c-.4-.4-.92-.59-1.43-.59-.52 0-1.04.2-1.43.59L10.3 9.45l-7.72 7.72c-.78.78-.78 2.05 0 2.83L4 21.41c.39.39.9.59 1.41.59.51 0 1.02-.2 1.41-.59l7.78-7.78 2.81-2.81c.8-.78.8-2.07 0-2.86zM5.41 20L4 18.59l7.72-7.72 1.47 1.35L5.41 20z\"/>\n",
              "  </svg>\n",
              "      </button>\n",
              "      \n",
              "  <style>\n",
              "    .colab-df-container {\n",
              "      display:flex;\n",
              "      flex-wrap:wrap;\n",
              "      gap: 12px;\n",
              "    }\n",
              "\n",
              "    .colab-df-convert {\n",
              "      background-color: #E8F0FE;\n",
              "      border: none;\n",
              "      border-radius: 50%;\n",
              "      cursor: pointer;\n",
              "      display: none;\n",
              "      fill: #1967D2;\n",
              "      height: 32px;\n",
              "      padding: 0 0 0 0;\n",
              "      width: 32px;\n",
              "    }\n",
              "\n",
              "    .colab-df-convert:hover {\n",
              "      background-color: #E2EBFA;\n",
              "      box-shadow: 0px 1px 2px rgba(60, 64, 67, 0.3), 0px 1px 3px 1px rgba(60, 64, 67, 0.15);\n",
              "      fill: #174EA6;\n",
              "    }\n",
              "\n",
              "    [theme=dark] .colab-df-convert {\n",
              "      background-color: #3B4455;\n",
              "      fill: #D2E3FC;\n",
              "    }\n",
              "\n",
              "    [theme=dark] .colab-df-convert:hover {\n",
              "      background-color: #434B5C;\n",
              "      box-shadow: 0px 1px 3px 1px rgba(0, 0, 0, 0.15);\n",
              "      filter: drop-shadow(0px 1px 2px rgba(0, 0, 0, 0.3));\n",
              "      fill: #FFFFFF;\n",
              "    }\n",
              "  </style>\n",
              "\n",
              "      <script>\n",
              "        const buttonEl =\n",
              "          document.querySelector('#df-7f9e6d67-13c3-4b0e-8675-ed31df3480a7 button.colab-df-convert');\n",
              "        buttonEl.style.display =\n",
              "          google.colab.kernel.accessAllowed ? 'block' : 'none';\n",
              "\n",
              "        async function convertToInteractive(key) {\n",
              "          const element = document.querySelector('#df-7f9e6d67-13c3-4b0e-8675-ed31df3480a7');\n",
              "          const dataTable =\n",
              "            await google.colab.kernel.invokeFunction('convertToInteractive',\n",
              "                                                     [key], {});\n",
              "          if (!dataTable) return;\n",
              "\n",
              "          const docLinkHtml = 'Like what you see? Visit the ' +\n",
              "            '<a target=\"_blank\" href=https://colab.research.google.com/notebooks/data_table.ipynb>data table notebook</a>'\n",
              "            + ' to learn more about interactive tables.';\n",
              "          element.innerHTML = '';\n",
              "          dataTable['output_type'] = 'display_data';\n",
              "          await google.colab.output.renderOutput(dataTable, element);\n",
              "          const docLink = document.createElement('div');\n",
              "          docLink.innerHTML = docLinkHtml;\n",
              "          element.appendChild(docLink);\n",
              "        }\n",
              "      </script>\n",
              "    </div>\n",
              "  </div>\n",
              "  "
            ]
          },
          "metadata": {}
        }
      ],
      "source": [
        "# Identifying Missing Values\n",
        "# resource: https://stackoverflow.com/questions/30447083/python-pandas-return-only-those-rows-which-have-missing-values \n",
        "\n",
        "null_records = df_customers_process[df_customers_process.isnull().any(axis=1)]\n",
        "print(\"Missing values:\", len(null_records))\n",
        "display(null_records.head())"
      ]
    },
    {
      "cell_type": "code",
      "execution_count": null,
      "metadata": {
        "colab": {
          "base_uri": "https://localhost:8080/"
        },
        "id": "9Rav1M0raUrL",
        "outputId": "65946c1d-168a-4559-cd1e-f524a6add228"
      },
      "outputs": [
        {
          "output_type": "stream",
          "name": "stdout",
          "text": [
            "Missing values: 0\n"
          ]
        }
      ],
      "source": [
        "# Replacing missing values with mode\n",
        "df_customers_process['internet_provider'].fillna(df_customers_process['internet_provider'].mode()[0], inplace=True)\n",
        "null_records = df_customers_process[df_customers_process.isnull().any(axis=1)]\n",
        "print(\"Missing values:\", len(null_records))"
      ]
    },
    {
      "cell_type": "markdown",
      "source": [
        "#### Processing of UNIX timestamp to match with test data.\n",
        "As we have 50M entries in the pings dataset, due to the lack of memory resouces and to avoid frequent crashes, we have decided to go with 2000000 entries of pings data."
      ],
      "metadata": {
        "id": "IkopPLr60wIx"
      }
    },
    {
      "cell_type": "code",
      "execution_count": null,
      "metadata": {
        "id": "SfYmtbCgbJ73"
      },
      "outputs": [],
      "source": [
        "df_pings_process = data_pings.copy(deep=True)"
      ]
    },
    {
      "cell_type": "code",
      "source": [
        "# Sampling Pings data due to memory limitations as it contains over 50M records\n",
        "df_pings_process = df_pings_process.sample(n=2000000)"
      ],
      "metadata": {
        "id": "8w9Jv5NHm9or"
      },
      "execution_count": null,
      "outputs": []
    },
    {
      "cell_type": "code",
      "source": [
        "# Timestamp in ascending order\n",
        "df_pings_process.sort_values(\"timestamp\", inplace=True)"
      ],
      "metadata": {
        "id": "fS6B0QwFqJIL"
      },
      "execution_count": null,
      "outputs": []
    },
    {
      "cell_type": "code",
      "execution_count": null,
      "metadata": {
        "id": "X4Hfv2YCIcDk"
      },
      "outputs": [],
      "source": [
        "# As it can be seen in the ping dataset, we need to convert timestamp to date-time and extract month, year to gain more insights\n",
        "df_pings_process['datetime'] = [datetime.fromtimestamp(x) for x in df_pings_process['timestamp']]\n",
        "df_pings_process['date'] = pd.DatetimeIndex(df_pings_process['datetime']).date  "
      ]
    },
    {
      "cell_type": "markdown",
      "source": [
        "#### Sorting timestamp and performing operations to compute number of hours\n",
        "As we have customer_id, date and number of hours spent in the test data, we have sorted the dataframe on the basis of timestamp, then performed a group by on id and date and computed the timestamp difference.\n",
        "\n",
        "As a result, we now have id, date and customer_active_hours which matches the features on our test dataset."
      ],
      "metadata": {
        "id": "LsssaGymtWOO"
      }
    },
    {
      "cell_type": "code",
      "execution_count": null,
      "metadata": {
        "id": "ISJKfZNWdqos"
      },
      "outputs": [],
      "source": [
        "# reference: https://stackoverflow.com/questions/70179295/how-to-calculate-the-id-time-difference\n",
        "df_pings_process['customer_active_hours'] = (df_pings_process.groupby(by=['id','date'])['timestamp'].diff())/(60*60)\n",
        "df_pings_process['customer_active_hours']  =  df_pings_process['customer_active_hours'].apply(lambda x: x if x< (2/60) else (2/60))\n",
        "df_pings_process.fillna(0,inplace = True)\n",
        "df_pings_process = (df_pings_process.groupby(by = ['id','date'])['customer_active_hours'].sum()).reset_index()\n",
        "df_pings_process['customer_active_hours'] = round(df_pings_process['customer_active_hours'],1)"
      ]
    },
    {
      "cell_type": "code",
      "source": [
        "df_pings_process.tail(10)"
      ],
      "metadata": {
        "colab": {
          "base_uri": "https://localhost:8080/",
          "height": 363
        },
        "id": "leZW7sBxn8ol",
        "outputId": "f2cef07c-068a-4fbb-d953-5f5f3196a1c3"
      },
      "execution_count": null,
      "outputs": [
        {
          "output_type": "execute_result",
          "data": {
            "text/plain": [
              "           id        date  customer_active_hours\n",
              "41612  998229  2017-06-13                    1.6\n",
              "41613  998229  2017-06-14                    2.1\n",
              "41614  998229  2017-06-15                    1.7\n",
              "41615  998229  2017-06-16                    1.9\n",
              "41616  998229  2017-06-17                    1.4\n",
              "41617  998229  2017-06-18                    1.5\n",
              "41618  998229  2017-06-19                    2.2\n",
              "41619  998229  2017-06-20                    0.1\n",
              "41620  998229  2017-06-21                    2.6\n",
              "41621  998229  2017-06-22                    0.2"
            ],
            "text/html": [
              "\n",
              "  <div id=\"df-dd08aacb-e45a-43a0-903b-16b6af37f6b2\">\n",
              "    <div class=\"colab-df-container\">\n",
              "      <div>\n",
              "<style scoped>\n",
              "    .dataframe tbody tr th:only-of-type {\n",
              "        vertical-align: middle;\n",
              "    }\n",
              "\n",
              "    .dataframe tbody tr th {\n",
              "        vertical-align: top;\n",
              "    }\n",
              "\n",
              "    .dataframe thead th {\n",
              "        text-align: right;\n",
              "    }\n",
              "</style>\n",
              "<table border=\"1\" class=\"dataframe\">\n",
              "  <thead>\n",
              "    <tr style=\"text-align: right;\">\n",
              "      <th></th>\n",
              "      <th>id</th>\n",
              "      <th>date</th>\n",
              "      <th>customer_active_hours</th>\n",
              "    </tr>\n",
              "  </thead>\n",
              "  <tbody>\n",
              "    <tr>\n",
              "      <th>41612</th>\n",
              "      <td>998229</td>\n",
              "      <td>2017-06-13</td>\n",
              "      <td>1.6</td>\n",
              "    </tr>\n",
              "    <tr>\n",
              "      <th>41613</th>\n",
              "      <td>998229</td>\n",
              "      <td>2017-06-14</td>\n",
              "      <td>2.1</td>\n",
              "    </tr>\n",
              "    <tr>\n",
              "      <th>41614</th>\n",
              "      <td>998229</td>\n",
              "      <td>2017-06-15</td>\n",
              "      <td>1.7</td>\n",
              "    </tr>\n",
              "    <tr>\n",
              "      <th>41615</th>\n",
              "      <td>998229</td>\n",
              "      <td>2017-06-16</td>\n",
              "      <td>1.9</td>\n",
              "    </tr>\n",
              "    <tr>\n",
              "      <th>41616</th>\n",
              "      <td>998229</td>\n",
              "      <td>2017-06-17</td>\n",
              "      <td>1.4</td>\n",
              "    </tr>\n",
              "    <tr>\n",
              "      <th>41617</th>\n",
              "      <td>998229</td>\n",
              "      <td>2017-06-18</td>\n",
              "      <td>1.5</td>\n",
              "    </tr>\n",
              "    <tr>\n",
              "      <th>41618</th>\n",
              "      <td>998229</td>\n",
              "      <td>2017-06-19</td>\n",
              "      <td>2.2</td>\n",
              "    </tr>\n",
              "    <tr>\n",
              "      <th>41619</th>\n",
              "      <td>998229</td>\n",
              "      <td>2017-06-20</td>\n",
              "      <td>0.1</td>\n",
              "    </tr>\n",
              "    <tr>\n",
              "      <th>41620</th>\n",
              "      <td>998229</td>\n",
              "      <td>2017-06-21</td>\n",
              "      <td>2.6</td>\n",
              "    </tr>\n",
              "    <tr>\n",
              "      <th>41621</th>\n",
              "      <td>998229</td>\n",
              "      <td>2017-06-22</td>\n",
              "      <td>0.2</td>\n",
              "    </tr>\n",
              "  </tbody>\n",
              "</table>\n",
              "</div>\n",
              "      <button class=\"colab-df-convert\" onclick=\"convertToInteractive('df-dd08aacb-e45a-43a0-903b-16b6af37f6b2')\"\n",
              "              title=\"Convert this dataframe to an interactive table.\"\n",
              "              style=\"display:none;\">\n",
              "        \n",
              "  <svg xmlns=\"http://www.w3.org/2000/svg\" height=\"24px\"viewBox=\"0 0 24 24\"\n",
              "       width=\"24px\">\n",
              "    <path d=\"M0 0h24v24H0V0z\" fill=\"none\"/>\n",
              "    <path d=\"M18.56 5.44l.94 2.06.94-2.06 2.06-.94-2.06-.94-.94-2.06-.94 2.06-2.06.94zm-11 1L8.5 8.5l.94-2.06 2.06-.94-2.06-.94L8.5 2.5l-.94 2.06-2.06.94zm10 10l.94 2.06.94-2.06 2.06-.94-2.06-.94-.94-2.06-.94 2.06-2.06.94z\"/><path d=\"M17.41 7.96l-1.37-1.37c-.4-.4-.92-.59-1.43-.59-.52 0-1.04.2-1.43.59L10.3 9.45l-7.72 7.72c-.78.78-.78 2.05 0 2.83L4 21.41c.39.39.9.59 1.41.59.51 0 1.02-.2 1.41-.59l7.78-7.78 2.81-2.81c.8-.78.8-2.07 0-2.86zM5.41 20L4 18.59l7.72-7.72 1.47 1.35L5.41 20z\"/>\n",
              "  </svg>\n",
              "      </button>\n",
              "      \n",
              "  <style>\n",
              "    .colab-df-container {\n",
              "      display:flex;\n",
              "      flex-wrap:wrap;\n",
              "      gap: 12px;\n",
              "    }\n",
              "\n",
              "    .colab-df-convert {\n",
              "      background-color: #E8F0FE;\n",
              "      border: none;\n",
              "      border-radius: 50%;\n",
              "      cursor: pointer;\n",
              "      display: none;\n",
              "      fill: #1967D2;\n",
              "      height: 32px;\n",
              "      padding: 0 0 0 0;\n",
              "      width: 32px;\n",
              "    }\n",
              "\n",
              "    .colab-df-convert:hover {\n",
              "      background-color: #E2EBFA;\n",
              "      box-shadow: 0px 1px 2px rgba(60, 64, 67, 0.3), 0px 1px 3px 1px rgba(60, 64, 67, 0.15);\n",
              "      fill: #174EA6;\n",
              "    }\n",
              "\n",
              "    [theme=dark] .colab-df-convert {\n",
              "      background-color: #3B4455;\n",
              "      fill: #D2E3FC;\n",
              "    }\n",
              "\n",
              "    [theme=dark] .colab-df-convert:hover {\n",
              "      background-color: #434B5C;\n",
              "      box-shadow: 0px 1px 3px 1px rgba(0, 0, 0, 0.15);\n",
              "      filter: drop-shadow(0px 1px 2px rgba(0, 0, 0, 0.3));\n",
              "      fill: #FFFFFF;\n",
              "    }\n",
              "  </style>\n",
              "\n",
              "      <script>\n",
              "        const buttonEl =\n",
              "          document.querySelector('#df-dd08aacb-e45a-43a0-903b-16b6af37f6b2 button.colab-df-convert');\n",
              "        buttonEl.style.display =\n",
              "          google.colab.kernel.accessAllowed ? 'block' : 'none';\n",
              "\n",
              "        async function convertToInteractive(key) {\n",
              "          const element = document.querySelector('#df-dd08aacb-e45a-43a0-903b-16b6af37f6b2');\n",
              "          const dataTable =\n",
              "            await google.colab.kernel.invokeFunction('convertToInteractive',\n",
              "                                                     [key], {});\n",
              "          if (!dataTable) return;\n",
              "\n",
              "          const docLinkHtml = 'Like what you see? Visit the ' +\n",
              "            '<a target=\"_blank\" href=https://colab.research.google.com/notebooks/data_table.ipynb>data table notebook</a>'\n",
              "            + ' to learn more about interactive tables.';\n",
              "          element.innerHTML = '';\n",
              "          dataTable['output_type'] = 'display_data';\n",
              "          await google.colab.output.renderOutput(dataTable, element);\n",
              "          const docLink = document.createElement('div');\n",
              "          docLink.innerHTML = docLinkHtml;\n",
              "          element.appendChild(docLink);\n",
              "        }\n",
              "      </script>\n",
              "    </div>\n",
              "  </div>\n",
              "  "
            ]
          },
          "metadata": {},
          "execution_count": 21
        }
      ]
    },
    {
      "cell_type": "code",
      "execution_count": null,
      "metadata": {
        "id": "4r723DFaKWPe"
      },
      "outputs": [],
      "source": [
        "# converting datetime to day, month and year\n",
        "df_pings_process['day'] = pd.DatetimeIndex(df_pings_process['date']).day\n",
        "df_pings_process['month'] = pd.DatetimeIndex(df_pings_process['date']).month\n",
        "df_pings_process['year'] = pd.DatetimeIndex(df_pings_process['date']).year"
      ]
    },
    {
      "cell_type": "code",
      "execution_count": null,
      "metadata": {
        "id": "7mLnVjm3HkDg"
      },
      "outputs": [],
      "source": [
        "df_pings_process.head()\n",
        "model_df = df_pings_process.copy(deep=True)"
      ]
    },
    {
      "cell_type": "markdown",
      "metadata": {
        "id": "ksSJXIhJcoMn"
      },
      "source": [
        "## Data Analysis and Visualization\n",
        "\n",
        "---\n",
        "\n",
        "\n",
        "\n",
        "Module Outline\n",
        "\n",
        "1. Plot a correlation heatmap to check the correlation between all the features. \n",
        "2. Plot histograms for continuous features, bar plot for categorical features and scatter plots according to the needs."
      ]
    },
    {
      "cell_type": "code",
      "execution_count": null,
      "metadata": {
        "id": "linDZ3K6HEjl",
        "colab": {
          "base_uri": "https://localhost:8080/",
          "height": 526
        },
        "outputId": "ec96782a-b29b-4ae3-ad2a-fa0601b699f2"
      },
      "outputs": [
        {
          "output_type": "execute_result",
          "data": {
            "text/plain": [
              "Text(0.5, 1.0, 'Heatmap')"
            ]
          },
          "metadata": {},
          "execution_count": 273
        },
        {
          "output_type": "display_data",
          "data": {
            "text/plain": [
              "<Figure size 1296x576 with 2 Axes>"
            ],
            "image/png": "[encoded data removed]"
          },
          "metadata": {}
        }
      ],
      "source": [
        "# reference: https://www.geeksforgeeks.org/display-the-pandas-dataframe-in-heatmap-style/\n",
        "# plot heatmap to find correlation betweens the data\n",
        "plt.subplots(figsize=(18,8))\n",
        "heatmap = sns.heatmap(df_customers_process.corr(), annot=True)\n",
        "heatmap.set_title('Heatmap', pad=12)"
      ]
    },
    {
      "cell_type": "markdown",
      "source": [
        "#### Customers by Age\n",
        "As we are dealing with online hours spent, it is expected that we get a right-skewed histogram as majority of active users will be between the age group of 20-50."
      ],
      "metadata": {
        "id": "Sn41SXMs7O-Z"
      }
    },
    {
      "cell_type": "code",
      "source": [
        "# Customers by age group\n",
        "plt.subplots(figsize=(18,5))\n",
        "ax = sns.histplot(df_customers_process['age'], bins=20, color = '#5C5CFF')\n",
        "ax.set_ylabel('# of Customers')\n",
        "ax.set_xlabel('Age (Years)')\n",
        "ax.set_title('# of Customers by their age')"
      ],
      "metadata": {
        "colab": {
          "base_uri": "https://localhost:8080/",
          "height": 373
        },
        "id": "QRb7H7ukxTjf",
        "outputId": "2d63752c-e24c-49ab-e9c6-e7f674e892bf"
      },
      "execution_count": null,
      "outputs": [
        {
          "output_type": "execute_result",
          "data": {
            "text/plain": [
              "Text(0.5, 1.0, '# of Customers by their age')"
            ]
          },
          "metadata": {},
          "execution_count": 100
        },
        {
          "output_type": "display_data",
          "data": {
            "text/plain": [
              "<Figure size 1296x360 with 1 Axes>"
            ],
            "image/png": "[encoded data removed]"
          },
          "metadata": {}
        }
      ]
    },
    {
      "cell_type": "markdown",
      "source": [
        "#### Customers by Gender\n",
        "From the dataset, we find majority of males than females in the current sample."
      ],
      "metadata": {
        "id": "oq3fTGAg92jx"
      }
    },
    {
      "cell_type": "code",
      "source": [
        "# Customers based on gender\n",
        "plt.figure(figsize=(5,4))\n",
        "ax = sns.countplot(x='gender', data=df_customers_process)\n",
        "ax.set(xlabel='Gender', ylabel='Customers',title=\"Customers by Gender\")\n",
        "ax = ax.set_xticklabels([\"Female\",\"Male\"])"
      ],
      "metadata": {
        "colab": {
          "base_uri": "https://localhost:8080/",
          "height": 301
        },
        "id": "0V5ORzPVzQ0C",
        "outputId": "0236d9a1-1dec-4b04-b463-f869aab0369e"
      },
      "execution_count": null,
      "outputs": [
        {
          "output_type": "display_data",
          "data": {
            "text/plain": [
              "<Figure size 360x288 with 1 Axes>"
            ],
            "image/png": "[encoded data removed]"
          },
          "metadata": {}
        }
      ]
    },
    {
      "cell_type": "markdown",
      "source": [
        "#### Customers by Smartphone Device\n",
        "From the barplot, we find that people are more into using Apple devices, followed by Samsung, OnePlus and Google."
      ],
      "metadata": {
        "id": "K7wpLgVk-F-4"
      }
    },
    {
      "cell_type": "code",
      "source": [
        "# Phone used by customers\n",
        "plt.subplots(figsize=(14,5))\n",
        "df_customers_process['smartphone_device'].value_counts().plot.bar(xlabel='SmartPhone Devices', ylabel='Customers')"
      ],
      "metadata": {
        "colab": {
          "base_uri": "https://localhost:8080/",
          "height": 398
        },
        "id": "Pl6vvA6A0B3w",
        "outputId": "484f8d3c-9264-46c0-c3dc-71de0793f676"
      },
      "execution_count": null,
      "outputs": [
        {
          "output_type": "execute_result",
          "data": {
            "text/plain": [
              "<matplotlib.axes._subplots.AxesSubplot at 0x7f9158578b50>"
            ]
          },
          "metadata": {},
          "execution_count": 248
        },
        {
          "output_type": "display_data",
          "data": {
            "text/plain": [
              "<Figure size 1008x360 with 1 Axes>"
            ],
            "image/png": "[encoded data removed]"
          },
          "metadata": {}
        }
      ]
    },
    {
      "cell_type": "markdown",
      "source": [
        "#### Customers by Internet Service Provider\n",
        "From the barplot, we find that people are more into using Bell followed by Rogers, Verizon, AT&T."
      ],
      "metadata": {
        "id": "ED64aOy5-ZRW"
      }
    },
    {
      "cell_type": "code",
      "source": [
        "# Internet service providers opted by customers\n",
        "plt.subplots(figsize=(15,5))\n",
        "df_customers_process['internet_provider'].value_counts().plot.bar(xlabel='Internet Provider', ylabel='Customers', title=\"Customers by Internet Service Provider\")"
      ],
      "metadata": {
        "colab": {
          "base_uri": "https://localhost:8080/",
          "height": 407
        },
        "id": "vqPku3vr1FEH",
        "outputId": "81b3ec1e-24dd-4006-ca4e-cde71385d052"
      },
      "execution_count": null,
      "outputs": [
        {
          "output_type": "execute_result",
          "data": {
            "text/plain": [
              "<matplotlib.axes._subplots.AxesSubplot at 0x7f9157396e50>"
            ]
          },
          "metadata": {},
          "execution_count": 265
        },
        {
          "output_type": "display_data",
          "data": {
            "text/plain": [
              "<Figure size 1080x360 with 1 Axes>"
            ],
            "image/png": "[encoded data removed]"
          },
          "metadata": {}
        }
      ]
    },
    {
      "cell_type": "markdown",
      "source": [
        "#### Application Usage\n",
        "From the dataset, TikTok is the widely used application in the sample"
      ],
      "metadata": {
        "id": "dob7rIvVBEK-"
      }
    },
    {
      "cell_type": "code",
      "source": [
        "# Application used by customers\n",
        "plt.subplots(figsize=(12,5))\n",
        "df_customers_process['application_name'].value_counts().plot.bar(xlabel='Applications Name',\n",
        "                                                                 ylabel='Customers', title=\"Application used by customers\")"
      ],
      "metadata": {
        "colab": {
          "base_uri": "https://localhost:8080/",
          "height": 419
        },
        "id": "xyGZLnZl1Ly4",
        "outputId": "1a43c2bb-3823-4c8c-9ec2-9b1208d2d3f3"
      },
      "execution_count": null,
      "outputs": [
        {
          "output_type": "execute_result",
          "data": {
            "text/plain": [
              "<matplotlib.axes._subplots.AxesSubplot at 0x7f915709f110>"
            ]
          },
          "metadata": {},
          "execution_count": 277
        },
        {
          "output_type": "display_data",
          "data": {
            "text/plain": [
              "<Figure size 864x360 with 1 Axes>"
            ],
            "image/png": "[encoded data removed]"
          },
          "metadata": {}
        }
      ]
    },
    {
      "cell_type": "markdown",
      "source": [
        "#### Merging dataset for further visualization\n",
        "As the main target to predict here is the number of hours, and it is in a different dataframe, we will have to merge the customers data and the pings data to make the further visualization.\n",
        "\n",
        "We will merge the dataset grouping it on the customer id, join type will be left as we dont want to lose any customer data."
      ],
      "metadata": {
        "id": "rxcQVpRbBVhZ"
      }
    },
    {
      "cell_type": "code",
      "source": [
        "# Merging dataset for visualization\n",
        "merged_df = df_customers_process.merge(df_pings_process,how='left', on='id')\n",
        "df_pings_process"
      ],
      "metadata": {
        "id": "ApSP8HBn2YVR",
        "colab": {
          "base_uri": "https://localhost:8080/",
          "height": 424
        },
        "outputId": "f7095c11-27a6-4c2a-c674-6a86dbec5255"
      },
      "execution_count": null,
      "outputs": [
        {
          "output_type": "execute_result",
          "data": {
            "text/plain": [
              "           id        date  customer_active_hours  day  month  year\n",
              "0      111556  2017-06-01                    0.3    1      6  2017\n",
              "1      111556  2017-06-02                    0.5    2      6  2017\n",
              "2      111556  2017-06-05                    0.8    5      6  2017\n",
              "3      111556  2017-06-06                    1.0    6      6  2017\n",
              "4      111556  2017-06-07                    0.7    7      6  2017\n",
              "...       ...         ...                    ...  ...    ...   ...\n",
              "41617  998229  2017-06-18                    1.5   18      6  2017\n",
              "41618  998229  2017-06-19                    2.2   19      6  2017\n",
              "41619  998229  2017-06-20                    0.1   20      6  2017\n",
              "41620  998229  2017-06-21                    2.6   21      6  2017\n",
              "41621  998229  2017-06-22                    0.2   22      6  2017\n",
              "\n",
              "[41622 rows x 6 columns]"
            ],
            "text/html": [
              "\n",
              "  <div id=\"df-7a084d8c-3a3c-40a8-a300-be65d24bdc8a\">\n",
              "    <div class=\"colab-df-container\">\n",
              "      <div>\n",
              "<style scoped>\n",
              "    .dataframe tbody tr th:only-of-type {\n",
              "        vertical-align: middle;\n",
              "    }\n",
              "\n",
              "    .dataframe tbody tr th {\n",
              "        vertical-align: top;\n",
              "    }\n",
              "\n",
              "    .dataframe thead th {\n",
              "        text-align: right;\n",
              "    }\n",
              "</style>\n",
              "<table border=\"1\" class=\"dataframe\">\n",
              "  <thead>\n",
              "    <tr style=\"text-align: right;\">\n",
              "      <th></th>\n",
              "      <th>id</th>\n",
              "      <th>date</th>\n",
              "      <th>customer_active_hours</th>\n",
              "      <th>day</th>\n",
              "      <th>month</th>\n",
              "      <th>year</th>\n",
              "    </tr>\n",
              "  </thead>\n",
              "  <tbody>\n",
              "    <tr>\n",
              "      <th>0</th>\n",
              "      <td>111556</td>\n",
              "      <td>2017-06-01</td>\n",
              "      <td>0.3</td>\n",
              "      <td>1</td>\n",
              "      <td>6</td>\n",
              "      <td>2017</td>\n",
              "    </tr>\n",
              "    <tr>\n",
              "      <th>1</th>\n",
              "      <td>111556</td>\n",
              "      <td>2017-06-02</td>\n",
              "      <td>0.5</td>\n",
              "      <td>2</td>\n",
              "      <td>6</td>\n",
              "      <td>2017</td>\n",
              "    </tr>\n",
              "    <tr>\n",
              "      <th>2</th>\n",
              "      <td>111556</td>\n",
              "      <td>2017-06-05</td>\n",
              "      <td>0.8</td>\n",
              "      <td>5</td>\n",
              "      <td>6</td>\n",
              "      <td>2017</td>\n",
              "    </tr>\n",
              "    <tr>\n",
              "      <th>3</th>\n",
              "      <td>111556</td>\n",
              "      <td>2017-06-06</td>\n",
              "      <td>1.0</td>\n",
              "      <td>6</td>\n",
              "      <td>6</td>\n",
              "      <td>2017</td>\n",
              "    </tr>\n",
              "    <tr>\n",
              "      <th>4</th>\n",
              "      <td>111556</td>\n",
              "      <td>2017-06-07</td>\n",
              "      <td>0.7</td>\n",
              "      <td>7</td>\n",
              "      <td>6</td>\n",
              "      <td>2017</td>\n",
              "    </tr>\n",
              "    <tr>\n",
              "      <th>...</th>\n",
              "      <td>...</td>\n",
              "      <td>...</td>\n",
              "      <td>...</td>\n",
              "      <td>...</td>\n",
              "      <td>...</td>\n",
              "      <td>...</td>\n",
              "    </tr>\n",
              "    <tr>\n",
              "      <th>41617</th>\n",
              "      <td>998229</td>\n",
              "      <td>2017-06-18</td>\n",
              "      <td>1.5</td>\n",
              "      <td>18</td>\n",
              "      <td>6</td>\n",
              "      <td>2017</td>\n",
              "    </tr>\n",
              "    <tr>\n",
              "      <th>41618</th>\n",
              "      <td>998229</td>\n",
              "      <td>2017-06-19</td>\n",
              "      <td>2.2</td>\n",
              "      <td>19</td>\n",
              "      <td>6</td>\n",
              "      <td>2017</td>\n",
              "    </tr>\n",
              "    <tr>\n",
              "      <th>41619</th>\n",
              "      <td>998229</td>\n",
              "      <td>2017-06-20</td>\n",
              "      <td>0.1</td>\n",
              "      <td>20</td>\n",
              "      <td>6</td>\n",
              "      <td>2017</td>\n",
              "    </tr>\n",
              "    <tr>\n",
              "      <th>41620</th>\n",
              "      <td>998229</td>\n",
              "      <td>2017-06-21</td>\n",
              "      <td>2.6</td>\n",
              "      <td>21</td>\n",
              "      <td>6</td>\n",
              "      <td>2017</td>\n",
              "    </tr>\n",
              "    <tr>\n",
              "      <th>41621</th>\n",
              "      <td>998229</td>\n",
              "      <td>2017-06-22</td>\n",
              "      <td>0.2</td>\n",
              "      <td>22</td>\n",
              "      <td>6</td>\n",
              "      <td>2017</td>\n",
              "    </tr>\n",
              "  </tbody>\n",
              "</table>\n",
              "<p>41622 rows × 6 columns</p>\n",
              "</div>\n",
              "      <button class=\"colab-df-convert\" onclick=\"convertToInteractive('df-7a084d8c-3a3c-40a8-a300-be65d24bdc8a')\"\n",
              "              title=\"Convert this dataframe to an interactive table.\"\n",
              "              style=\"display:none;\">\n",
              "        \n",
              "  <svg xmlns=\"http://www.w3.org/2000/svg\" height=\"24px\"viewBox=\"0 0 24 24\"\n",
              "       width=\"24px\">\n",
              "    <path d=\"M0 0h24v24H0V0z\" fill=\"none\"/>\n",
              "    <path d=\"M18.56 5.44l.94 2.06.94-2.06 2.06-.94-2.06-.94-.94-2.06-.94 2.06-2.06.94zm-11 1L8.5 8.5l.94-2.06 2.06-.94-2.06-.94L8.5 2.5l-.94 2.06-2.06.94zm10 10l.94 2.06.94-2.06 2.06-.94-2.06-.94-.94-2.06-.94 2.06-2.06.94z\"/><path d=\"M17.41 7.96l-1.37-1.37c-.4-.4-.92-.59-1.43-.59-.52 0-1.04.2-1.43.59L10.3 9.45l-7.72 7.72c-.78.78-.78 2.05 0 2.83L4 21.41c.39.39.9.59 1.41.59.51 0 1.02-.2 1.41-.59l7.78-7.78 2.81-2.81c.8-.78.8-2.07 0-2.86zM5.41 20L4 18.59l7.72-7.72 1.47 1.35L5.41 20z\"/>\n",
              "  </svg>\n",
              "      </button>\n",
              "      \n",
              "  <style>\n",
              "    .colab-df-container {\n",
              "      display:flex;\n",
              "      flex-wrap:wrap;\n",
              "      gap: 12px;\n",
              "    }\n",
              "\n",
              "    .colab-df-convert {\n",
              "      background-color: #E8F0FE;\n",
              "      border: none;\n",
              "      border-radius: 50%;\n",
              "      cursor: pointer;\n",
              "      display: none;\n",
              "      fill: #1967D2;\n",
              "      height: 32px;\n",
              "      padding: 0 0 0 0;\n",
              "      width: 32px;\n",
              "    }\n",
              "\n",
              "    .colab-df-convert:hover {\n",
              "      background-color: #E2EBFA;\n",
              "      box-shadow: 0px 1px 2px rgba(60, 64, 67, 0.3), 0px 1px 3px 1px rgba(60, 64, 67, 0.15);\n",
              "      fill: #174EA6;\n",
              "    }\n",
              "\n",
              "    [theme=dark] .colab-df-convert {\n",
              "      background-color: #3B4455;\n",
              "      fill: #D2E3FC;\n",
              "    }\n",
              "\n",
              "    [theme=dark] .colab-df-convert:hover {\n",
              "      background-color: #434B5C;\n",
              "      box-shadow: 0px 1px 3px 1px rgba(0, 0, 0, 0.15);\n",
              "      filter: drop-shadow(0px 1px 2px rgba(0, 0, 0, 0.3));\n",
              "      fill: #FFFFFF;\n",
              "    }\n",
              "  </style>\n",
              "\n",
              "      <script>\n",
              "        const buttonEl =\n",
              "          document.querySelector('#df-7a084d8c-3a3c-40a8-a300-be65d24bdc8a button.colab-df-convert');\n",
              "        buttonEl.style.display =\n",
              "          google.colab.kernel.accessAllowed ? 'block' : 'none';\n",
              "\n",
              "        async function convertToInteractive(key) {\n",
              "          const element = document.querySelector('#df-7a084d8c-3a3c-40a8-a300-be65d24bdc8a');\n",
              "          const dataTable =\n",
              "            await google.colab.kernel.invokeFunction('convertToInteractive',\n",
              "                                                     [key], {});\n",
              "          if (!dataTable) return;\n",
              "\n",
              "          const docLinkHtml = 'Like what you see? Visit the ' +\n",
              "            '<a target=\"_blank\" href=https://colab.research.google.com/notebooks/data_table.ipynb>data table notebook</a>'\n",
              "            + ' to learn more about interactive tables.';\n",
              "          element.innerHTML = '';\n",
              "          dataTable['output_type'] = 'display_data';\n",
              "          await google.colab.output.renderOutput(dataTable, element);\n",
              "          const docLink = document.createElement('div');\n",
              "          docLink.innerHTML = docLinkHtml;\n",
              "          element.appendChild(docLink);\n",
              "        }\n",
              "      </script>\n",
              "    </div>\n",
              "  </div>\n",
              "  "
            ]
          },
          "metadata": {},
          "execution_count": 29
        }
      ]
    },
    {
      "cell_type": "code",
      "source": [
        "plt.subplots(figsize=(18,6))\n",
        "ax = sns.barplot(x='day', y=\"customer_active_hours\", data=merged_df)\n",
        "ax.set_ylabel('# of hours spent on a particular day of month')\n",
        "ax.set_xlabel('Day of Month')\n",
        "ax.set_title('Day vs Hour Spent')"
      ],
      "metadata": {
        "colab": {
          "base_uri": "https://localhost:8080/",
          "height": 428
        },
        "id": "F8ej6zC13wWP",
        "outputId": "e92d7177-6f90-4db1-b6b6-6b4c8a3ec69d"
      },
      "execution_count": null,
      "outputs": [
        {
          "output_type": "execute_result",
          "data": {
            "text/plain": [
              "Text(0.5, 1.0, 'Day vs Hour Spent')"
            ]
          },
          "metadata": {},
          "execution_count": 105
        },
        {
          "output_type": "display_data",
          "data": {
            "text/plain": [
              "<Figure size 1296x432 with 1 Axes>"
            ],
            "image/png": "[encoded data removed]"
          },
          "metadata": {}
        }
      ]
    },
    {
      "cell_type": "code",
      "source": [
        "plt.subplots(figsize=(12,5))\n",
        "ax = sns.scatterplot(x='age',y=\"customer_active_hours\",data=merged_df)\n",
        "ax.set_ylabel('# of hours spent by a particular age group')\n",
        "ax.set_xlabel('Age')\n",
        "ax.set_title('number of hours')"
      ],
      "metadata": {
        "colab": {
          "base_uri": "https://localhost:8080/",
          "height": 373
        },
        "id": "F3ClyhN96Jbq",
        "outputId": "36b093fc-cd8f-4a07-f767-6061c311f4a6"
      },
      "execution_count": null,
      "outputs": [
        {
          "output_type": "execute_result",
          "data": {
            "text/plain": [
              "Text(0.5, 1.0, 'number of hours')"
            ]
          },
          "metadata": {},
          "execution_count": 279
        },
        {
          "output_type": "display_data",
          "data": {
            "text/plain": [
              "<Figure size 864x360 with 1 Axes>"
            ],
            "image/png": "[encoded data removed]"
          },
          "metadata": {}
        }
      ]
    },
    {
      "cell_type": "code",
      "source": [
        "merged_df.head()"
      ],
      "metadata": {
        "colab": {
          "base_uri": "https://localhost:8080/",
          "height": 206
        },
        "id": "Ssv3ACpX71G8",
        "outputId": "9e001247-8484-4114-b4e2-7612211156eb"
      },
      "execution_count": null,
      "outputs": [
        {
          "output_type": "execute_result",
          "data": {
            "text/plain": [
              "       id  gender  age  number_of_kids smartphone_device internet_provider  \\\n",
              "0  979863       1   26               2            Google              AT&T   \n",
              "1  979863       1   26               2            Google              AT&T   \n",
              "2  979863       1   26               2            Google              AT&T   \n",
              "3  979863       1   26               2            Google              AT&T   \n",
              "4  979863       1   26               2            Google              AT&T   \n",
              "\n",
              "  application_name        date  customer_active_hours  day  month    year  \n",
              "0           TikTok  2017-06-01                    2.6  1.0    6.0  2017.0  \n",
              "1           TikTok  2017-06-02                    3.1  2.0    6.0  2017.0  \n",
              "2           TikTok  2017-06-03                    2.8  3.0    6.0  2017.0  \n",
              "3           TikTok  2017-06-04                    2.2  4.0    6.0  2017.0  \n",
              "4           TikTok  2017-06-06                    2.8  6.0    6.0  2017.0  "
            ],
            "text/html": [
              "\n",
              "  <div id=\"df-75ac8dd6-a286-4a2a-bf14-71f091fe56f1\">\n",
              "    <div class=\"colab-df-container\">\n",
              "      <div>\n",
              "<style scoped>\n",
              "    .dataframe tbody tr th:only-of-type {\n",
              "        vertical-align: middle;\n",
              "    }\n",
              "\n",
              "    .dataframe tbody tr th {\n",
              "        vertical-align: top;\n",
              "    }\n",
              "\n",
              "    .dataframe thead th {\n",
              "        text-align: right;\n",
              "    }\n",
              "</style>\n",
              "<table border=\"1\" class=\"dataframe\">\n",
              "  <thead>\n",
              "    <tr style=\"text-align: right;\">\n",
              "      <th></th>\n",
              "      <th>id</th>\n",
              "      <th>gender</th>\n",
              "      <th>age</th>\n",
              "      <th>number_of_kids</th>\n",
              "      <th>smartphone_device</th>\n",
              "      <th>internet_provider</th>\n",
              "      <th>application_name</th>\n",
              "      <th>date</th>\n",
              "      <th>customer_active_hours</th>\n",
              "      <th>day</th>\n",
              "      <th>month</th>\n",
              "      <th>year</th>\n",
              "    </tr>\n",
              "  </thead>\n",
              "  <tbody>\n",
              "    <tr>\n",
              "      <th>0</th>\n",
              "      <td>979863</td>\n",
              "      <td>1</td>\n",
              "      <td>26</td>\n",
              "      <td>2</td>\n",
              "      <td>Google</td>\n",
              "      <td>AT&amp;T</td>\n",
              "      <td>TikTok</td>\n",
              "      <td>2017-06-01</td>\n",
              "      <td>2.6</td>\n",
              "      <td>1.0</td>\n",
              "      <td>6.0</td>\n",
              "      <td>2017.0</td>\n",
              "    </tr>\n",
              "    <tr>\n",
              "      <th>1</th>\n",
              "      <td>979863</td>\n",
              "      <td>1</td>\n",
              "      <td>26</td>\n",
              "      <td>2</td>\n",
              "      <td>Google</td>\n",
              "      <td>AT&amp;T</td>\n",
              "      <td>TikTok</td>\n",
              "      <td>2017-06-02</td>\n",
              "      <td>3.1</td>\n",
              "      <td>2.0</td>\n",
              "      <td>6.0</td>\n",
              "      <td>2017.0</td>\n",
              "    </tr>\n",
              "    <tr>\n",
              "      <th>2</th>\n",
              "      <td>979863</td>\n",
              "      <td>1</td>\n",
              "      <td>26</td>\n",
              "      <td>2</td>\n",
              "      <td>Google</td>\n",
              "      <td>AT&amp;T</td>\n",
              "      <td>TikTok</td>\n",
              "      <td>2017-06-03</td>\n",
              "      <td>2.8</td>\n",
              "      <td>3.0</td>\n",
              "      <td>6.0</td>\n",
              "      <td>2017.0</td>\n",
              "    </tr>\n",
              "    <tr>\n",
              "      <th>3</th>\n",
              "      <td>979863</td>\n",
              "      <td>1</td>\n",
              "      <td>26</td>\n",
              "      <td>2</td>\n",
              "      <td>Google</td>\n",
              "      <td>AT&amp;T</td>\n",
              "      <td>TikTok</td>\n",
              "      <td>2017-06-04</td>\n",
              "      <td>2.2</td>\n",
              "      <td>4.0</td>\n",
              "      <td>6.0</td>\n",
              "      <td>2017.0</td>\n",
              "    </tr>\n",
              "    <tr>\n",
              "      <th>4</th>\n",
              "      <td>979863</td>\n",
              "      <td>1</td>\n",
              "      <td>26</td>\n",
              "      <td>2</td>\n",
              "      <td>Google</td>\n",
              "      <td>AT&amp;T</td>\n",
              "      <td>TikTok</td>\n",
              "      <td>2017-06-06</td>\n",
              "      <td>2.8</td>\n",
              "      <td>6.0</td>\n",
              "      <td>6.0</td>\n",
              "      <td>2017.0</td>\n",
              "    </tr>\n",
              "  </tbody>\n",
              "</table>\n",
              "</div>\n",
              "      <button class=\"colab-df-convert\" onclick=\"convertToInteractive('df-75ac8dd6-a286-4a2a-bf14-71f091fe56f1')\"\n",
              "              title=\"Convert this dataframe to an interactive table.\"\n",
              "              style=\"display:none;\">\n",
              "        \n",
              "  <svg xmlns=\"http://www.w3.org/2000/svg\" height=\"24px\"viewBox=\"0 0 24 24\"\n",
              "       width=\"24px\">\n",
              "    <path d=\"M0 0h24v24H0V0z\" fill=\"none\"/>\n",
              "    <path d=\"M18.56 5.44l.94 2.06.94-2.06 2.06-.94-2.06-.94-.94-2.06-.94 2.06-2.06.94zm-11 1L8.5 8.5l.94-2.06 2.06-.94-2.06-.94L8.5 2.5l-.94 2.06-2.06.94zm10 10l.94 2.06.94-2.06 2.06-.94-2.06-.94-.94-2.06-.94 2.06-2.06.94z\"/><path d=\"M17.41 7.96l-1.37-1.37c-.4-.4-.92-.59-1.43-.59-.52 0-1.04.2-1.43.59L10.3 9.45l-7.72 7.72c-.78.78-.78 2.05 0 2.83L4 21.41c.39.39.9.59 1.41.59.51 0 1.02-.2 1.41-.59l7.78-7.78 2.81-2.81c.8-.78.8-2.07 0-2.86zM5.41 20L4 18.59l7.72-7.72 1.47 1.35L5.41 20z\"/>\n",
              "  </svg>\n",
              "      </button>\n",
              "      \n",
              "  <style>\n",
              "    .colab-df-container {\n",
              "      display:flex;\n",
              "      flex-wrap:wrap;\n",
              "      gap: 12px;\n",
              "    }\n",
              "\n",
              "    .colab-df-convert {\n",
              "      background-color: #E8F0FE;\n",
              "      border: none;\n",
              "      border-radius: 50%;\n",
              "      cursor: pointer;\n",
              "      display: none;\n",
              "      fill: #1967D2;\n",
              "      height: 32px;\n",
              "      padding: 0 0 0 0;\n",
              "      width: 32px;\n",
              "    }\n",
              "\n",
              "    .colab-df-convert:hover {\n",
              "      background-color: #E2EBFA;\n",
              "      box-shadow: 0px 1px 2px rgba(60, 64, 67, 0.3), 0px 1px 3px 1px rgba(60, 64, 67, 0.15);\n",
              "      fill: #174EA6;\n",
              "    }\n",
              "\n",
              "    [theme=dark] .colab-df-convert {\n",
              "      background-color: #3B4455;\n",
              "      fill: #D2E3FC;\n",
              "    }\n",
              "\n",
              "    [theme=dark] .colab-df-convert:hover {\n",
              "      background-color: #434B5C;\n",
              "      box-shadow: 0px 1px 3px 1px rgba(0, 0, 0, 0.15);\n",
              "      filter: drop-shadow(0px 1px 2px rgba(0, 0, 0, 0.3));\n",
              "      fill: #FFFFFF;\n",
              "    }\n",
              "  </style>\n",
              "\n",
              "      <script>\n",
              "        const buttonEl =\n",
              "          document.querySelector('#df-75ac8dd6-a286-4a2a-bf14-71f091fe56f1 button.colab-df-convert');\n",
              "        buttonEl.style.display =\n",
              "          google.colab.kernel.accessAllowed ? 'block' : 'none';\n",
              "\n",
              "        async function convertToInteractive(key) {\n",
              "          const element = document.querySelector('#df-75ac8dd6-a286-4a2a-bf14-71f091fe56f1');\n",
              "          const dataTable =\n",
              "            await google.colab.kernel.invokeFunction('convertToInteractive',\n",
              "                                                     [key], {});\n",
              "          if (!dataTable) return;\n",
              "\n",
              "          const docLinkHtml = 'Like what you see? Visit the ' +\n",
              "            '<a target=\"_blank\" href=https://colab.research.google.com/notebooks/data_table.ipynb>data table notebook</a>'\n",
              "            + ' to learn more about interactive tables.';\n",
              "          element.innerHTML = '';\n",
              "          dataTable['output_type'] = 'display_data';\n",
              "          await google.colab.output.renderOutput(dataTable, element);\n",
              "          const docLink = document.createElement('div');\n",
              "          docLink.innerHTML = docLinkHtml;\n",
              "          element.appendChild(docLink);\n",
              "        }\n",
              "      </script>\n",
              "    </div>\n",
              "  </div>\n",
              "  "
            ]
          },
          "metadata": {},
          "execution_count": 31
        }
      ]
    },
    {
      "cell_type": "code",
      "source": [
        "plt.subplots(figsize=(15,5))\n",
        "sns.barplot(x='smartphone_device', y=\"customer_active_hours\", data=merged_df)\n",
        "ax.set_ylabel('# of hours spent by a smartphone provider')\n",
        "ax.set_xlabel('smartphone device')"
      ],
      "metadata": {
        "id": "cUmBTrGW74oz",
        "colab": {
          "base_uri": "https://localhost:8080/",
          "height": 357
        },
        "outputId": "baaa95aa-1a31-4a34-9d5f-a0c0502c7c92"
      },
      "execution_count": null,
      "outputs": [
        {
          "output_type": "execute_result",
          "data": {
            "text/plain": [
              "Text(0.5, 20.200000000000003, 'smartphone device')"
            ]
          },
          "metadata": {},
          "execution_count": 243
        },
        {
          "output_type": "display_data",
          "data": {
            "text/plain": [
              "<Figure size 1080x360 with 1 Axes>"
            ],
            "image/png": "[encoded data removed]"
          },
          "metadata": {}
        }
      ]
    },
    {
      "cell_type": "code",
      "source": [
        "plt.subplots(figsize=(15,5))\n",
        "sns.barplot(x='internet_provider', y=\"customer_active_hours\", data=merged_df)\n",
        "ax.set_ylabel('# of hours spent by a internet provider')\n",
        "ax.set_xlabel('internet provider')\n",
        "ax.set_title('number of hours')"
      ],
      "metadata": {
        "id": "unx9FQKr9SDk",
        "colab": {
          "base_uri": "https://localhost:8080/",
          "height": 357
        },
        "outputId": "a55421e7-61db-42f8-bc95-c26a9344a7ac"
      },
      "execution_count": null,
      "outputs": [
        {
          "output_type": "execute_result",
          "data": {
            "text/plain": [
              "Text(0.5, 1.0, 'number of hours')"
            ]
          },
          "metadata": {},
          "execution_count": 87
        },
        {
          "output_type": "display_data",
          "data": {
            "text/plain": [
              "<Figure size 1080x360 with 1 Axes>"
            ],
            "image/png": "[encoded data removed]"
          },
          "metadata": {}
        }
      ]
    },
    {
      "cell_type": "code",
      "source": [
        "plt.subplots(figsize=(15,5))\n",
        "sns.barplot(x='application_name', y=\"customer_active_hours\", data=merged_df)\n",
        "ax.set_ylabel('# of hours spent by application')\n",
        "ax.set_xlabel('application name')\n",
        "ax.set_title('number of hours')"
      ],
      "metadata": {
        "id": "K_Wwp_GM_1tK",
        "colab": {
          "base_uri": "https://localhost:8080/",
          "height": 357
        },
        "outputId": "57f17151-1737-49ac-f9d4-2d591e6d5f47"
      },
      "execution_count": null,
      "outputs": [
        {
          "output_type": "execute_result",
          "data": {
            "text/plain": [
              "Text(0.5, 1.0, 'number of hours')"
            ]
          },
          "metadata": {},
          "execution_count": 88
        },
        {
          "output_type": "display_data",
          "data": {
            "text/plain": [
              "<Figure size 1080x360 with 1 Axes>"
            ],
            "image/png": "[encoded data removed]"
          },
          "metadata": {}
        }
      ]
    },
    {
      "cell_type": "markdown",
      "metadata": {
        "id": "L9yQfK-z25V3"
      },
      "source": [
        "## Data Modeling, Results and Evaluation\n",
        "\n",
        "---\n",
        "\n"
      ]
    },
    {
      "cell_type": "markdown",
      "source": [
        "##### Create dataset for modeling\n",
        "\n",
        "We have merged customer processed dataset with the model dataset, so combine dataset contains all the important features which will be required to generate, train, and evaluate the model."
      ],
      "metadata": {
        "id": "hCUO14Nh_Eqk"
      }
    },
    {
      "cell_type": "code",
      "execution_count": null,
      "metadata": {
        "id": "nOwm2VKs3LXR"
      },
      "outputs": [],
      "source": [
        "temp_model_df = pd.merge(left = df_customers_process, right = model_df, on = 'id', how = 'outer')\n",
        "temp_model_df.dropna(inplace = True)"
      ]
    },
    {
      "cell_type": "code",
      "source": [
        "temp_model_df.head()"
      ],
      "metadata": {
        "colab": {
          "base_uri": "https://localhost:8080/",
          "height": 206
        },
        "id": "b54VQBoch1I_",
        "outputId": "e70d9e63-e4c2-42f6-ddb8-7e97b3bc8ca4"
      },
      "execution_count": null,
      "outputs": [
        {
          "output_type": "execute_result",
          "data": {
            "text/plain": [
              "       id  gender  age  number_of_kids smartphone_device internet_provider  \\\n",
              "0  979863       1   26               2            Google              AT&T   \n",
              "1  979863       1   26               2            Google              AT&T   \n",
              "2  979863       1   26               2            Google              AT&T   \n",
              "3  979863       1   26               2            Google              AT&T   \n",
              "4  979863       1   26               2            Google              AT&T   \n",
              "\n",
              "  application_name        date  customer_active_hours  day  month    year  \n",
              "0           TikTok  2017-06-01                    2.6  1.0    6.0  2017.0  \n",
              "1           TikTok  2017-06-02                    3.1  2.0    6.0  2017.0  \n",
              "2           TikTok  2017-06-03                    2.8  3.0    6.0  2017.0  \n",
              "3           TikTok  2017-06-04                    2.2  4.0    6.0  2017.0  \n",
              "4           TikTok  2017-06-06                    2.8  6.0    6.0  2017.0  "
            ],
            "text/html": [
              "\n",
              "  <div id=\"df-2ecfc7fb-1846-4024-a854-6f95f3dc066a\">\n",
              "    <div class=\"colab-df-container\">\n",
              "      <div>\n",
              "<style scoped>\n",
              "    .dataframe tbody tr th:only-of-type {\n",
              "        vertical-align: middle;\n",
              "    }\n",
              "\n",
              "    .dataframe tbody tr th {\n",
              "        vertical-align: top;\n",
              "    }\n",
              "\n",
              "    .dataframe thead th {\n",
              "        text-align: right;\n",
              "    }\n",
              "</style>\n",
              "<table border=\"1\" class=\"dataframe\">\n",
              "  <thead>\n",
              "    <tr style=\"text-align: right;\">\n",
              "      <th></th>\n",
              "      <th>id</th>\n",
              "      <th>gender</th>\n",
              "      <th>age</th>\n",
              "      <th>number_of_kids</th>\n",
              "      <th>smartphone_device</th>\n",
              "      <th>internet_provider</th>\n",
              "      <th>application_name</th>\n",
              "      <th>date</th>\n",
              "      <th>customer_active_hours</th>\n",
              "      <th>day</th>\n",
              "      <th>month</th>\n",
              "      <th>year</th>\n",
              "    </tr>\n",
              "  </thead>\n",
              "  <tbody>\n",
              "    <tr>\n",
              "      <th>0</th>\n",
              "      <td>979863</td>\n",
              "      <td>1</td>\n",
              "      <td>26</td>\n",
              "      <td>2</td>\n",
              "      <td>Google</td>\n",
              "      <td>AT&amp;T</td>\n",
              "      <td>TikTok</td>\n",
              "      <td>2017-06-01</td>\n",
              "      <td>2.6</td>\n",
              "      <td>1.0</td>\n",
              "      <td>6.0</td>\n",
              "      <td>2017.0</td>\n",
              "    </tr>\n",
              "    <tr>\n",
              "      <th>1</th>\n",
              "      <td>979863</td>\n",
              "      <td>1</td>\n",
              "      <td>26</td>\n",
              "      <td>2</td>\n",
              "      <td>Google</td>\n",
              "      <td>AT&amp;T</td>\n",
              "      <td>TikTok</td>\n",
              "      <td>2017-06-02</td>\n",
              "      <td>3.1</td>\n",
              "      <td>2.0</td>\n",
              "      <td>6.0</td>\n",
              "      <td>2017.0</td>\n",
              "    </tr>\n",
              "    <tr>\n",
              "      <th>2</th>\n",
              "      <td>979863</td>\n",
              "      <td>1</td>\n",
              "      <td>26</td>\n",
              "      <td>2</td>\n",
              "      <td>Google</td>\n",
              "      <td>AT&amp;T</td>\n",
              "      <td>TikTok</td>\n",
              "      <td>2017-06-03</td>\n",
              "      <td>2.8</td>\n",
              "      <td>3.0</td>\n",
              "      <td>6.0</td>\n",
              "      <td>2017.0</td>\n",
              "    </tr>\n",
              "    <tr>\n",
              "      <th>3</th>\n",
              "      <td>979863</td>\n",
              "      <td>1</td>\n",
              "      <td>26</td>\n",
              "      <td>2</td>\n",
              "      <td>Google</td>\n",
              "      <td>AT&amp;T</td>\n",
              "      <td>TikTok</td>\n",
              "      <td>2017-06-04</td>\n",
              "      <td>2.2</td>\n",
              "      <td>4.0</td>\n",
              "      <td>6.0</td>\n",
              "      <td>2017.0</td>\n",
              "    </tr>\n",
              "    <tr>\n",
              "      <th>4</th>\n",
              "      <td>979863</td>\n",
              "      <td>1</td>\n",
              "      <td>26</td>\n",
              "      <td>2</td>\n",
              "      <td>Google</td>\n",
              "      <td>AT&amp;T</td>\n",
              "      <td>TikTok</td>\n",
              "      <td>2017-06-06</td>\n",
              "      <td>2.8</td>\n",
              "      <td>6.0</td>\n",
              "      <td>6.0</td>\n",
              "      <td>2017.0</td>\n",
              "    </tr>\n",
              "  </tbody>\n",
              "</table>\n",
              "</div>\n",
              "      <button class=\"colab-df-convert\" onclick=\"convertToInteractive('df-2ecfc7fb-1846-4024-a854-6f95f3dc066a')\"\n",
              "              title=\"Convert this dataframe to an interactive table.\"\n",
              "              style=\"display:none;\">\n",
              "        \n",
              "  <svg xmlns=\"http://www.w3.org/2000/svg\" height=\"24px\"viewBox=\"0 0 24 24\"\n",
              "       width=\"24px\">\n",
              "    <path d=\"M0 0h24v24H0V0z\" fill=\"none\"/>\n",
              "    <path d=\"M18.56 5.44l.94 2.06.94-2.06 2.06-.94-2.06-.94-.94-2.06-.94 2.06-2.06.94zm-11 1L8.5 8.5l.94-2.06 2.06-.94-2.06-.94L8.5 2.5l-.94 2.06-2.06.94zm10 10l.94 2.06.94-2.06 2.06-.94-2.06-.94-.94-2.06-.94 2.06-2.06.94z\"/><path d=\"M17.41 7.96l-1.37-1.37c-.4-.4-.92-.59-1.43-.59-.52 0-1.04.2-1.43.59L10.3 9.45l-7.72 7.72c-.78.78-.78 2.05 0 2.83L4 21.41c.39.39.9.59 1.41.59.51 0 1.02-.2 1.41-.59l7.78-7.78 2.81-2.81c.8-.78.8-2.07 0-2.86zM5.41 20L4 18.59l7.72-7.72 1.47 1.35L5.41 20z\"/>\n",
              "  </svg>\n",
              "      </button>\n",
              "      \n",
              "  <style>\n",
              "    .colab-df-container {\n",
              "      display:flex;\n",
              "      flex-wrap:wrap;\n",
              "      gap: 12px;\n",
              "    }\n",
              "\n",
              "    .colab-df-convert {\n",
              "      background-color: #E8F0FE;\n",
              "      border: none;\n",
              "      border-radius: 50%;\n",
              "      cursor: pointer;\n",
              "      display: none;\n",
              "      fill: #1967D2;\n",
              "      height: 32px;\n",
              "      padding: 0 0 0 0;\n",
              "      width: 32px;\n",
              "    }\n",
              "\n",
              "    .colab-df-convert:hover {\n",
              "      background-color: #E2EBFA;\n",
              "      box-shadow: 0px 1px 2px rgba(60, 64, 67, 0.3), 0px 1px 3px 1px rgba(60, 64, 67, 0.15);\n",
              "      fill: #174EA6;\n",
              "    }\n",
              "\n",
              "    [theme=dark] .colab-df-convert {\n",
              "      background-color: #3B4455;\n",
              "      fill: #D2E3FC;\n",
              "    }\n",
              "\n",
              "    [theme=dark] .colab-df-convert:hover {\n",
              "      background-color: #434B5C;\n",
              "      box-shadow: 0px 1px 3px 1px rgba(0, 0, 0, 0.15);\n",
              "      filter: drop-shadow(0px 1px 2px rgba(0, 0, 0, 0.3));\n",
              "      fill: #FFFFFF;\n",
              "    }\n",
              "  </style>\n",
              "\n",
              "      <script>\n",
              "        const buttonEl =\n",
              "          document.querySelector('#df-2ecfc7fb-1846-4024-a854-6f95f3dc066a button.colab-df-convert');\n",
              "        buttonEl.style.display =\n",
              "          google.colab.kernel.accessAllowed ? 'block' : 'none';\n",
              "\n",
              "        async function convertToInteractive(key) {\n",
              "          const element = document.querySelector('#df-2ecfc7fb-1846-4024-a854-6f95f3dc066a');\n",
              "          const dataTable =\n",
              "            await google.colab.kernel.invokeFunction('convertToInteractive',\n",
              "                                                     [key], {});\n",
              "          if (!dataTable) return;\n",
              "\n",
              "          const docLinkHtml = 'Like what you see? Visit the ' +\n",
              "            '<a target=\"_blank\" href=https://colab.research.google.com/notebooks/data_table.ipynb>data table notebook</a>'\n",
              "            + ' to learn more about interactive tables.';\n",
              "          element.innerHTML = '';\n",
              "          dataTable['output_type'] = 'display_data';\n",
              "          await google.colab.output.renderOutput(dataTable, element);\n",
              "          const docLink = document.createElement('div');\n",
              "          docLink.innerHTML = docLinkHtml;\n",
              "          element.appendChild(docLink);\n",
              "        }\n",
              "      </script>\n",
              "    </div>\n",
              "  </div>\n",
              "  "
            ]
          },
          "metadata": {},
          "execution_count": 37
        }
      ]
    },
    {
      "cell_type": "markdown",
      "source": [
        "#### Preprocessing the dataset\n",
        "\n",
        "Dataset contains some of the attributes with the string data, which makes impossible to find the significance from those features. So, we have performed encoding, to convert values of [smartphone_device, internet_provider, application_name] into numerical data. "
      ],
      "metadata": {
        "id": "vMdShGPtph8U"
      }
    },
    {
      "cell_type": "code",
      "source": [
        "columns = ['smartphone_device', 'internet_provider', 'application_name']\n",
        "\n",
        "for column in columns: \n",
        "  temp_model_df[column] = temp_model_df[column].replace(to_replace=temp_model_df[column].unique(), value= list(range(0, len(temp_model_df[column].unique()))))\n"
      ],
      "metadata": {
        "id": "DZl8S0DsjFVl"
      },
      "execution_count": null,
      "outputs": []
    },
    {
      "cell_type": "code",
      "source": [
        "temp_model_df.head()"
      ],
      "metadata": {
        "colab": {
          "base_uri": "https://localhost:8080/",
          "height": 206
        },
        "id": "f-UtrxvTjHsG",
        "outputId": "118a5bb2-b84a-4c53-a7c0-f50ac6e8c9c9"
      },
      "execution_count": null,
      "outputs": [
        {
          "output_type": "execute_result",
          "data": {
            "text/plain": [
              "       id  gender  age  number_of_kids  smartphone_device  internet_provider  \\\n",
              "0  979863       1   26               2                  0                  0   \n",
              "1  979863       1   26               2                  0                  0   \n",
              "2  979863       1   26               2                  0                  0   \n",
              "3  979863       1   26               2                  0                  0   \n",
              "4  979863       1   26               2                  0                  0   \n",
              "\n",
              "   application_name        date  customer_active_hours  day  month    year  \n",
              "0                 0  2017-06-01                    2.6  1.0    6.0  2017.0  \n",
              "1                 0  2017-06-02                    3.1  2.0    6.0  2017.0  \n",
              "2                 0  2017-06-03                    2.8  3.0    6.0  2017.0  \n",
              "3                 0  2017-06-04                    2.2  4.0    6.0  2017.0  \n",
              "4                 0  2017-06-06                    2.8  6.0    6.0  2017.0  "
            ],
            "text/html": [
              "\n",
              "  <div id=\"df-b4ce787e-ca99-44aa-a1ff-d992bdf7d5d7\">\n",
              "    <div class=\"colab-df-container\">\n",
              "      <div>\n",
              "<style scoped>\n",
              "    .dataframe tbody tr th:only-of-type {\n",
              "        vertical-align: middle;\n",
              "    }\n",
              "\n",
              "    .dataframe tbody tr th {\n",
              "        vertical-align: top;\n",
              "    }\n",
              "\n",
              "    .dataframe thead th {\n",
              "        text-align: right;\n",
              "    }\n",
              "</style>\n",
              "<table border=\"1\" class=\"dataframe\">\n",
              "  <thead>\n",
              "    <tr style=\"text-align: right;\">\n",
              "      <th></th>\n",
              "      <th>id</th>\n",
              "      <th>gender</th>\n",
              "      <th>age</th>\n",
              "      <th>number_of_kids</th>\n",
              "      <th>smartphone_device</th>\n",
              "      <th>internet_provider</th>\n",
              "      <th>application_name</th>\n",
              "      <th>date</th>\n",
              "      <th>customer_active_hours</th>\n",
              "      <th>day</th>\n",
              "      <th>month</th>\n",
              "      <th>year</th>\n",
              "    </tr>\n",
              "  </thead>\n",
              "  <tbody>\n",
              "    <tr>\n",
              "      <th>0</th>\n",
              "      <td>979863</td>\n",
              "      <td>1</td>\n",
              "      <td>26</td>\n",
              "      <td>2</td>\n",
              "      <td>0</td>\n",
              "      <td>0</td>\n",
              "      <td>0</td>\n",
              "      <td>2017-06-01</td>\n",
              "      <td>2.6</td>\n",
              "      <td>1.0</td>\n",
              "      <td>6.0</td>\n",
              "      <td>2017.0</td>\n",
              "    </tr>\n",
              "    <tr>\n",
              "      <th>1</th>\n",
              "      <td>979863</td>\n",
              "      <td>1</td>\n",
              "      <td>26</td>\n",
              "      <td>2</td>\n",
              "      <td>0</td>\n",
              "      <td>0</td>\n",
              "      <td>0</td>\n",
              "      <td>2017-06-02</td>\n",
              "      <td>3.1</td>\n",
              "      <td>2.0</td>\n",
              "      <td>6.0</td>\n",
              "      <td>2017.0</td>\n",
              "    </tr>\n",
              "    <tr>\n",
              "      <th>2</th>\n",
              "      <td>979863</td>\n",
              "      <td>1</td>\n",
              "      <td>26</td>\n",
              "      <td>2</td>\n",
              "      <td>0</td>\n",
              "      <td>0</td>\n",
              "      <td>0</td>\n",
              "      <td>2017-06-03</td>\n",
              "      <td>2.8</td>\n",
              "      <td>3.0</td>\n",
              "      <td>6.0</td>\n",
              "      <td>2017.0</td>\n",
              "    </tr>\n",
              "    <tr>\n",
              "      <th>3</th>\n",
              "      <td>979863</td>\n",
              "      <td>1</td>\n",
              "      <td>26</td>\n",
              "      <td>2</td>\n",
              "      <td>0</td>\n",
              "      <td>0</td>\n",
              "      <td>0</td>\n",
              "      <td>2017-06-04</td>\n",
              "      <td>2.2</td>\n",
              "      <td>4.0</td>\n",
              "      <td>6.0</td>\n",
              "      <td>2017.0</td>\n",
              "    </tr>\n",
              "    <tr>\n",
              "      <th>4</th>\n",
              "      <td>979863</td>\n",
              "      <td>1</td>\n",
              "      <td>26</td>\n",
              "      <td>2</td>\n",
              "      <td>0</td>\n",
              "      <td>0</td>\n",
              "      <td>0</td>\n",
              "      <td>2017-06-06</td>\n",
              "      <td>2.8</td>\n",
              "      <td>6.0</td>\n",
              "      <td>6.0</td>\n",
              "      <td>2017.0</td>\n",
              "    </tr>\n",
              "  </tbody>\n",
              "</table>\n",
              "</div>\n",
              "      <button class=\"colab-df-convert\" onclick=\"convertToInteractive('df-b4ce787e-ca99-44aa-a1ff-d992bdf7d5d7')\"\n",
              "              title=\"Convert this dataframe to an interactive table.\"\n",
              "              style=\"display:none;\">\n",
              "        \n",
              "  <svg xmlns=\"http://www.w3.org/2000/svg\" height=\"24px\"viewBox=\"0 0 24 24\"\n",
              "       width=\"24px\">\n",
              "    <path d=\"M0 0h24v24H0V0z\" fill=\"none\"/>\n",
              "    <path d=\"M18.56 5.44l.94 2.06.94-2.06 2.06-.94-2.06-.94-.94-2.06-.94 2.06-2.06.94zm-11 1L8.5 8.5l.94-2.06 2.06-.94-2.06-.94L8.5 2.5l-.94 2.06-2.06.94zm10 10l.94 2.06.94-2.06 2.06-.94-2.06-.94-.94-2.06-.94 2.06-2.06.94z\"/><path d=\"M17.41 7.96l-1.37-1.37c-.4-.4-.92-.59-1.43-.59-.52 0-1.04.2-1.43.59L10.3 9.45l-7.72 7.72c-.78.78-.78 2.05 0 2.83L4 21.41c.39.39.9.59 1.41.59.51 0 1.02-.2 1.41-.59l7.78-7.78 2.81-2.81c.8-.78.8-2.07 0-2.86zM5.41 20L4 18.59l7.72-7.72 1.47 1.35L5.41 20z\"/>\n",
              "  </svg>\n",
              "      </button>\n",
              "      \n",
              "  <style>\n",
              "    .colab-df-container {\n",
              "      display:flex;\n",
              "      flex-wrap:wrap;\n",
              "      gap: 12px;\n",
              "    }\n",
              "\n",
              "    .colab-df-convert {\n",
              "      background-color: #E8F0FE;\n",
              "      border: none;\n",
              "      border-radius: 50%;\n",
              "      cursor: pointer;\n",
              "      display: none;\n",
              "      fill: #1967D2;\n",
              "      height: 32px;\n",
              "      padding: 0 0 0 0;\n",
              "      width: 32px;\n",
              "    }\n",
              "\n",
              "    .colab-df-convert:hover {\n",
              "      background-color: #E2EBFA;\n",
              "      box-shadow: 0px 1px 2px rgba(60, 64, 67, 0.3), 0px 1px 3px 1px rgba(60, 64, 67, 0.15);\n",
              "      fill: #174EA6;\n",
              "    }\n",
              "\n",
              "    [theme=dark] .colab-df-convert {\n",
              "      background-color: #3B4455;\n",
              "      fill: #D2E3FC;\n",
              "    }\n",
              "\n",
              "    [theme=dark] .colab-df-convert:hover {\n",
              "      background-color: #434B5C;\n",
              "      box-shadow: 0px 1px 3px 1px rgba(0, 0, 0, 0.15);\n",
              "      filter: drop-shadow(0px 1px 2px rgba(0, 0, 0, 0.3));\n",
              "      fill: #FFFFFF;\n",
              "    }\n",
              "  </style>\n",
              "\n",
              "      <script>\n",
              "        const buttonEl =\n",
              "          document.querySelector('#df-b4ce787e-ca99-44aa-a1ff-d992bdf7d5d7 button.colab-df-convert');\n",
              "        buttonEl.style.display =\n",
              "          google.colab.kernel.accessAllowed ? 'block' : 'none';\n",
              "\n",
              "        async function convertToInteractive(key) {\n",
              "          const element = document.querySelector('#df-b4ce787e-ca99-44aa-a1ff-d992bdf7d5d7');\n",
              "          const dataTable =\n",
              "            await google.colab.kernel.invokeFunction('convertToInteractive',\n",
              "                                                     [key], {});\n",
              "          if (!dataTable) return;\n",
              "\n",
              "          const docLinkHtml = 'Like what you see? Visit the ' +\n",
              "            '<a target=\"_blank\" href=https://colab.research.google.com/notebooks/data_table.ipynb>data table notebook</a>'\n",
              "            + ' to learn more about interactive tables.';\n",
              "          element.innerHTML = '';\n",
              "          dataTable['output_type'] = 'display_data';\n",
              "          await google.colab.output.renderOutput(dataTable, element);\n",
              "          const docLink = document.createElement('div');\n",
              "          docLink.innerHTML = docLinkHtml;\n",
              "          element.appendChild(docLink);\n",
              "        }\n",
              "      </script>\n",
              "    </div>\n",
              "  </div>\n",
              "  "
            ]
          },
          "metadata": {},
          "execution_count": 39
        }
      ]
    },
    {
      "cell_type": "markdown",
      "source": [
        "#### The task we are solving is (e.g., supervised x unsupervised, classification x regression x clustering or similarity matching x, etc).\n",
        "\n",
        "As we have considered customer_active_hours as a target variable and based on analysis of given dataset, we have decided to use **supervised** machine learning algorithms. Supervised machine learning learns from the labeled training data and predict outcomes for unforeseen data. So, we believed that it fits more with given problems. \n",
        "\n",
        "Also, we have decided to use **regression** technique to investigate the relationship between independent variables and a dependent variable. It’s used as a machine learning model or algorithm to predict continuous outcomes. Therefore, as we need to predict the customer_active_hours value for unknown data, we believed that regression would be the best suitable technique. \n"
      ],
      "metadata": {
        "id": "z-pCybCoBGB_"
      }
    },
    {
      "cell_type": "markdown",
      "source": [
        "#### Performed feature selection \n",
        "\n",
        "We know that identify the most correlated features is quite important task, that should be done before train any model. So, we have used correlation matrix same as we have done during baseline model to find correlation between features. So, to generate correlation matrix and implement feature selection task, we have used f_regression statistics and SelectKBest which are imported from the sklearn library to implement feature selection task and identify best suitable features. Below figure indicates the 7 selected features which are more correlated with the customer_active_hours feature compared to rest of other features. So, all rest of features has been removed from the dataset."
      ],
      "metadata": {
        "id": "oMHeLHcGABJc"
      }
    },
    {
      "cell_type": "code",
      "source": [
        "# Features\n",
        "X = temp_model_df.drop(['customer_active_hours', 'date'], axis=1)\n",
        "# Target\n",
        "y = temp_model_df['customer_active_hours']"
      ],
      "metadata": {
        "id": "TEXemY_ijJ4R"
      },
      "execution_count": null,
      "outputs": []
    },
    {
      "cell_type": "code",
      "source": [
        "# testing data\n",
        "data_test.rename(columns = {'online_hours':'customer_active_hours'}, inplace = True)\n",
        "data_test.head()"
      ],
      "metadata": {
        "colab": {
          "base_uri": "https://localhost:8080/",
          "height": 206
        },
        "id": "qiXVcRGnjMqz",
        "outputId": "a54bceec-126b-42da-ee6c-79431420df10"
      },
      "execution_count": null,
      "outputs": [
        {
          "output_type": "execute_result",
          "data": {
            "text/plain": [
              "       id      date  customer_active_hours\n",
              "0  979863  28/06/17                      7\n",
              "1  979863  27/06/17                      9\n",
              "2  979863  26/06/17                      9\n",
              "3  979863  25/06/17                     10\n",
              "4  979863  24/06/17                      9"
            ],
            "text/html": [
              "\n",
              "  <div id=\"df-bdd2cebe-37eb-46fb-b3be-ca5e4ff62fbc\">\n",
              "    <div class=\"colab-df-container\">\n",
              "      <div>\n",
              "<style scoped>\n",
              "    .dataframe tbody tr th:only-of-type {\n",
              "        vertical-align: middle;\n",
              "    }\n",
              "\n",
              "    .dataframe tbody tr th {\n",
              "        vertical-align: top;\n",
              "    }\n",
              "\n",
              "    .dataframe thead th {\n",
              "        text-align: right;\n",
              "    }\n",
              "</style>\n",
              "<table border=\"1\" class=\"dataframe\">\n",
              "  <thead>\n",
              "    <tr style=\"text-align: right;\">\n",
              "      <th></th>\n",
              "      <th>id</th>\n",
              "      <th>date</th>\n",
              "      <th>customer_active_hours</th>\n",
              "    </tr>\n",
              "  </thead>\n",
              "  <tbody>\n",
              "    <tr>\n",
              "      <th>0</th>\n",
              "      <td>979863</td>\n",
              "      <td>28/06/17</td>\n",
              "      <td>7</td>\n",
              "    </tr>\n",
              "    <tr>\n",
              "      <th>1</th>\n",
              "      <td>979863</td>\n",
              "      <td>27/06/17</td>\n",
              "      <td>9</td>\n",
              "    </tr>\n",
              "    <tr>\n",
              "      <th>2</th>\n",
              "      <td>979863</td>\n",
              "      <td>26/06/17</td>\n",
              "      <td>9</td>\n",
              "    </tr>\n",
              "    <tr>\n",
              "      <th>3</th>\n",
              "      <td>979863</td>\n",
              "      <td>25/06/17</td>\n",
              "      <td>10</td>\n",
              "    </tr>\n",
              "    <tr>\n",
              "      <th>4</th>\n",
              "      <td>979863</td>\n",
              "      <td>24/06/17</td>\n",
              "      <td>9</td>\n",
              "    </tr>\n",
              "  </tbody>\n",
              "</table>\n",
              "</div>\n",
              "      <button class=\"colab-df-convert\" onclick=\"convertToInteractive('df-bdd2cebe-37eb-46fb-b3be-ca5e4ff62fbc')\"\n",
              "              title=\"Convert this dataframe to an interactive table.\"\n",
              "              style=\"display:none;\">\n",
              "        \n",
              "  <svg xmlns=\"http://www.w3.org/2000/svg\" height=\"24px\"viewBox=\"0 0 24 24\"\n",
              "       width=\"24px\">\n",
              "    <path d=\"M0 0h24v24H0V0z\" fill=\"none\"/>\n",
              "    <path d=\"M18.56 5.44l.94 2.06.94-2.06 2.06-.94-2.06-.94-.94-2.06-.94 2.06-2.06.94zm-11 1L8.5 8.5l.94-2.06 2.06-.94-2.06-.94L8.5 2.5l-.94 2.06-2.06.94zm10 10l.94 2.06.94-2.06 2.06-.94-2.06-.94-.94-2.06-.94 2.06-2.06.94z\"/><path d=\"M17.41 7.96l-1.37-1.37c-.4-.4-.92-.59-1.43-.59-.52 0-1.04.2-1.43.59L10.3 9.45l-7.72 7.72c-.78.78-.78 2.05 0 2.83L4 21.41c.39.39.9.59 1.41.59.51 0 1.02-.2 1.41-.59l7.78-7.78 2.81-2.81c.8-.78.8-2.07 0-2.86zM5.41 20L4 18.59l7.72-7.72 1.47 1.35L5.41 20z\"/>\n",
              "  </svg>\n",
              "      </button>\n",
              "      \n",
              "  <style>\n",
              "    .colab-df-container {\n",
              "      display:flex;\n",
              "      flex-wrap:wrap;\n",
              "      gap: 12px;\n",
              "    }\n",
              "\n",
              "    .colab-df-convert {\n",
              "      background-color: #E8F0FE;\n",
              "      border: none;\n",
              "      border-radius: 50%;\n",
              "      cursor: pointer;\n",
              "      display: none;\n",
              "      fill: #1967D2;\n",
              "      height: 32px;\n",
              "      padding: 0 0 0 0;\n",
              "      width: 32px;\n",
              "    }\n",
              "\n",
              "    .colab-df-convert:hover {\n",
              "      background-color: #E2EBFA;\n",
              "      box-shadow: 0px 1px 2px rgba(60, 64, 67, 0.3), 0px 1px 3px 1px rgba(60, 64, 67, 0.15);\n",
              "      fill: #174EA6;\n",
              "    }\n",
              "\n",
              "    [theme=dark] .colab-df-convert {\n",
              "      background-color: #3B4455;\n",
              "      fill: #D2E3FC;\n",
              "    }\n",
              "\n",
              "    [theme=dark] .colab-df-convert:hover {\n",
              "      background-color: #434B5C;\n",
              "      box-shadow: 0px 1px 3px 1px rgba(0, 0, 0, 0.15);\n",
              "      filter: drop-shadow(0px 1px 2px rgba(0, 0, 0, 0.3));\n",
              "      fill: #FFFFFF;\n",
              "    }\n",
              "  </style>\n",
              "\n",
              "      <script>\n",
              "        const buttonEl =\n",
              "          document.querySelector('#df-bdd2cebe-37eb-46fb-b3be-ca5e4ff62fbc button.colab-df-convert');\n",
              "        buttonEl.style.display =\n",
              "          google.colab.kernel.accessAllowed ? 'block' : 'none';\n",
              "\n",
              "        async function convertToInteractive(key) {\n",
              "          const element = document.querySelector('#df-bdd2cebe-37eb-46fb-b3be-ca5e4ff62fbc');\n",
              "          const dataTable =\n",
              "            await google.colab.kernel.invokeFunction('convertToInteractive',\n",
              "                                                     [key], {});\n",
              "          if (!dataTable) return;\n",
              "\n",
              "          const docLinkHtml = 'Like what you see? Visit the ' +\n",
              "            '<a target=\"_blank\" href=https://colab.research.google.com/notebooks/data_table.ipynb>data table notebook</a>'\n",
              "            + ' to learn more about interactive tables.';\n",
              "          element.innerHTML = '';\n",
              "          dataTable['output_type'] = 'display_data';\n",
              "          await google.colab.output.renderOutput(dataTable, element);\n",
              "          const docLink = document.createElement('div');\n",
              "          docLink.innerHTML = docLinkHtml;\n",
              "          element.appendChild(docLink);\n",
              "        }\n",
              "      </script>\n",
              "    </div>\n",
              "  </div>\n",
              "  "
            ]
          },
          "metadata": {},
          "execution_count": 41
        }
      ]
    },
    {
      "cell_type": "code",
      "source": [
        "# reference: https://scikit-learn.org/stable/modules/generated/sklearn.feature_selection.SelectKBest.html\n",
        "\n",
        "fs = SelectKBest(score_func=f_regression, k=7)\n",
        "X_new = fs.fit_transform(X, y)\n",
        "top_features = sorted(zip(X.columns, fs.scores_), key=lambda x: x[1], reverse=True)\n",
        "\n",
        "print(\"List of top 7 most correlated features\")\n",
        "for feature in top_features[:7]: \n",
        "  print(feature)\n",
        "\n",
        "feat_importances = pd.Series(fs.scores_, index=X.columns)\n",
        "feat_importances.nlargest(7).plot(kind='barh')\n",
        "plt.show()"
      ],
      "metadata": {
        "colab": {
          "base_uri": "https://localhost:8080/",
          "height": 479
        },
        "id": "TprWs1ULjOy8",
        "outputId": "3c3d2fc8-ee26-49dd-ec8b-6d2932ed842c"
      },
      "execution_count": null,
      "outputs": [
        {
          "output_type": "stream",
          "name": "stderr",
          "text": [
            "/usr/local/lib/python3.7/dist-packages/sklearn/feature_selection/_univariate_selection.py:289: RuntimeWarning: divide by zero encountered in true_divide\n",
            "  correlation_coefficient /= X_norms\n",
            "/usr/local/lib/python3.7/dist-packages/sklearn/feature_selection/_univariate_selection.py:358: RuntimeWarning: invalid value encountered in true_divide\n",
            "  f_statistic = corr_coef_squared / (1 - corr_coef_squared) * deg_of_freedom\n"
          ]
        },
        {
          "output_type": "stream",
          "name": "stdout",
          "text": [
            "List of top 7 most correlated features\n",
            "('gender', 5678.088956756589)\n",
            "('age', 644.3075386309596)\n",
            "('number_of_kids', 197.63675836218695)\n",
            "('application_name', 23.544084277564206)\n",
            "('id', 21.414145635192718)\n",
            "('day', 4.260556765809958)\n",
            "('internet_provider', 1.8987263012266065)\n"
          ]
        },
        {
          "output_type": "display_data",
          "data": {
            "text/plain": [
              "<Figure size 432x288 with 1 Axes>"
            ],
            "image/png": "[encoded data removed]"
          },
          "metadata": {
            "needs_background": "light"
          }
        }
      ]
    },
    {
      "cell_type": "code",
      "source": [
        "# considering top 3 features\n",
        "top_column_names = [x[0] for x in top_features[:7]]\n",
        "X = X[top_column_names]"
      ],
      "metadata": {
        "id": "bS7VCqcZjQ_7"
      },
      "execution_count": null,
      "outputs": []
    },
    {
      "cell_type": "markdown",
      "source": [
        "#### Evalution Matrix: \n",
        "\n",
        "It is necessary to obtain the accuracy on training data, with that it is also important to get a genuine and approximate result on unseen data otherwise Model is of no use. So, to build and deploy a generalized model we require to Evaluate the model on different metrics which helps\n",
        "us to better optimize the performance, fine-tune it, and obtain a better result.\n",
        "\n",
        "We have selected [r2_score](https://scikit-learn.org/stable/modules/generated/sklearn.metrics.r2_score.html) for evaluating the model. R2 score is a metric that tells the performance of the model, by mean that how many wells did the model perform. Unlike other metrics, R2 Score compares our model with the baseline model, so it calculates how must regression line is better than mean line.\n",
        "\n",
        "R2 score values are residing between 0 and 1. Here 1 means the regression line does not make any mistake, however, it is not possible in the real world. While 0 means our model is not better than the model using the mean."
      ],
      "metadata": {
        "id": "nZYzy6TYCLJd"
      }
    },
    {
      "cell_type": "markdown",
      "source": [
        "#### Ensuring overfitting problem\n",
        "\n",
        "In overfiting problem, a model tries to fit the training data entirely and ends up memorizing the data pattens as well as noise. So, these models fail to generalize and perform well in the case of unseen data and ruining the purpose of the model. To avoid this overfiting problem we performed following tasks,\n",
        "\n",
        "* We make sure that data should be clean and does not contain any missing or  garbage values\n",
        "* Remove the outliers from the dataset because if the outliers are present in the dataset the model captures the noise in the training data and fails to generalize the model’s learning.\n",
        "* We have performed encoding to convert values of categorical features into numerical features.\n",
        "* We make sure that training dataset is enough to train the model accurately.\n"
      ],
      "metadata": {
        "id": "P67uvGDvCj3G"
      }
    },
    {
      "cell_type": "code",
      "source": [
        "# reference: https://www.geeksforgeeks.org/finding-the-outlier-points-from-matplotlib/\n",
        "# detecting outliers and remove \n",
        "\n",
        "sns.set_theme(style=\"whitegrid\")\n",
        "plt.boxplot(temp_model_df['customer_active_hours'])\n",
        "fig = plt.figure(figsize =(10, 7))\n",
        "plt.show()"
      ],
      "metadata": {
        "colab": {
          "base_uri": "https://localhost:8080/",
          "height": 288
        },
        "id": "FjXZ4EQXjXBc",
        "outputId": "b4a4e80c-0632-42f6-d871-af15708748cb"
      },
      "execution_count": null,
      "outputs": [
        {
          "output_type": "display_data",
          "data": {
            "text/plain": [
              "<Figure size 432x288 with 1 Axes>"
            ],
            "image/png": "[encoded data removed]"
          },
          "metadata": {}
        },
        {
          "output_type": "display_data",
          "data": {
            "text/plain": [
              "<Figure size 720x504 with 0 Axes>"
            ]
          },
          "metadata": {}
        }
      ]
    },
    {
      "cell_type": "code",
      "source": [
        "#  finding the 1st quartile\n",
        "q1 = np.quantile(temp_model_df['customer_active_hours'], 0.25)\n",
        " \n",
        "# finding the 3rd quartile\n",
        "q3 = np.quantile(temp_model_df['customer_active_hours'], 0.75)\n",
        "med = np.median(temp_model_df['customer_active_hours'])\n",
        " \n",
        "# finding the iqr region\n",
        "iqr = q3-q1\n",
        " \n",
        "# finding upper and lower whiskers\n",
        "upper_bound = q3+(1.5*iqr)\n",
        "lower_bound = q1-(1.5*iqr)\n",
        "print(f\"IQR = {upper_bound} - {lower_bound} = {iqr}\")"
      ],
      "metadata": {
        "colab": {
          "base_uri": "https://localhost:8080/"
        },
        "id": "UnUvwpLkjcA6",
        "outputId": "aaf333c7-a272-4530-d865-d481a9c2a44f"
      },
      "execution_count": null,
      "outputs": [
        {
          "output_type": "stream",
          "name": "stdout",
          "text": [
            "IQR = 3.8 - -0.9999999999999998 = 1.2\n"
          ]
        }
      ]
    },
    {
      "cell_type": "code",
      "source": [
        "outliers = temp_model_df[(temp_model_df['customer_active_hours'] <= lower_bound) | (temp_model_df['customer_active_hours'] >= upper_bound)]\n",
        "print('The total number of outliers are:', {len(outliers)})\n",
        "print('The total number of instances before outliers:', {len(temp_model_df)})\n",
        "\n",
        "## remove outliers from the dataset\n",
        "temo_df = temp_model_df.drop(outliers.index)\n",
        "temo_df.boxplot('customer_active_hours')\n",
        "print('The total number of instances after outliers:', {len(temo_df)})"
      ],
      "metadata": {
        "colab": {
          "base_uri": "https://localhost:8080/",
          "height": 323
        },
        "id": "Kcx6bE4yjhwn",
        "outputId": "6232937d-ae03-47f7-9135-84dc10b6f69d"
      },
      "execution_count": null,
      "outputs": [
        {
          "output_type": "stream",
          "name": "stdout",
          "text": [
            "The total number of outliers are: {24}\n",
            "The total number of instances before outliers: {41684}\n",
            "The total number of instances after outliers: {41660}\n"
          ]
        },
        {
          "output_type": "display_data",
          "data": {
            "text/plain": [
              "<Figure size 432x288 with 1 Axes>"
            ],
            "image/png": "[encoded data removed]"
          },
          "metadata": {}
        }
      ]
    },
    {
      "cell_type": "code",
      "source": [
        "# histogram visulization for checking whether the data is imblanaced or not\n",
        "plt.subplots(figsize=(20,5))\n",
        "sns.histplot(data=temo_df, x=\"customer_active_hours\")"
      ],
      "metadata": {
        "colab": {
          "base_uri": "https://localhost:8080/",
          "height": 357
        },
        "id": "Vtfz62f2aL6r",
        "outputId": "2d28551d-d38e-4504-dfef-e6f6c3c1ae75"
      },
      "execution_count": null,
      "outputs": [
        {
          "output_type": "execute_result",
          "data": {
            "text/plain": [
              "<matplotlib.axes._subplots.AxesSubplot at 0x7f9157d612d0>"
            ]
          },
          "metadata": {},
          "execution_count": 211
        },
        {
          "output_type": "display_data",
          "data": {
            "text/plain": [
              "<Figure size 1440x360 with 1 Axes>"
            ],
            "image/png": "[encoded data removed]"
          },
          "metadata": {}
        }
      ]
    },
    {
      "cell_type": "markdown",
      "source": [
        "#### Split the dataset into training (40%), validation (30%), and test (30%) splits. "
      ],
      "metadata": {
        "id": "aAXuw4ONjTZc"
      }
    },
    {
      "cell_type": "code",
      "source": [
        "# reference: https://towardsdatascience.com/how-to-split-data-into-three-sets-train-validation-and-test-and-why-e50d22d3e54c\n",
        "# Let's say we want to split the data in 40:30:30 for train:valid:test dataset\n",
        "train_size=0.4\n",
        "\n",
        "train = temo_df[temo_df['day'] < 22]\n",
        "test = temo_df[temo_df['day'] == 22]\n",
        "      \n",
        "X = train.drop(columns = ['customer_active_hours','date'])\n",
        "y = train['customer_active_hours'].values\n",
        "\n",
        "# In the first step we will split the data in training and remaining dataset\n",
        "X_rem, X_test, y_rem, y_test = train_test_split(X,y, test_size=0.3)\n",
        "\n",
        "# Now since we want the valid and test size to be equal (30% each of overall data). \n",
        "# we have to define valid_size=0.5 (that is 50% of remaining data)\n",
        "test_size = 0.5\n",
        "X_train, X_valid, y_train, y_valid = train_test_split(X_rem,y_rem, train_size=4/7)\n",
        " \n",
        "print(\"X_train dataset: \", X_train.shape)\n",
        "print(\"y_train dataset: \", y_train.shape)\n",
        "print(\"X_test dataset: \", X_test.shape)\n",
        "print(\"y_test dataset: \", y_test.shape)\n",
        "print(\"X_valid dataset: \", X_valid.shape)\n",
        "print(\"y_valid dataset: \", y_valid.shape)"
      ],
      "metadata": {
        "colab": {
          "base_uri": "https://localhost:8080/"
        },
        "id": "Z9MajR-wjkVJ",
        "outputId": "f5d91100-cd86-4bfd-8b9c-2667e27b25f1"
      },
      "execution_count": null,
      "outputs": [
        {
          "output_type": "stream",
          "name": "stdout",
          "text": [
            "X_train dataset:  (16633, 10)\n",
            "y_train dataset:  (16633,)\n",
            "X_test dataset:  (12475, 10)\n",
            "y_test dataset:  (12475,)\n",
            "X_valid dataset:  (12475, 10)\n",
            "y_valid dataset:  (12475,)\n"
          ]
        }
      ]
    },
    {
      "cell_type": "markdown",
      "source": [
        "#### Train and evaluate models on test data"
      ],
      "metadata": {
        "id": "XLx9HQykEdSh"
      }
    },
    {
      "cell_type": "markdown",
      "source": [
        "##### XGBoost for Regression baseline model\n",
        "\n",
        "We have used [XGBoost](https://xgboost.readthedocs.io/en/stable/python/python_api.html) for Regression, which is an efficient implementation of gradient boosting that can be used for regression predictive modeling. Here we are using this model to predict customer_active_hours for unseen data. We have manually tried different hyperparameters and we have found that n_estimator=1000, objective=\"reg:squarederror\", verbosity=0, and random_state=42 parameteres in which model is performing more efficiently. "
      ],
      "metadata": {
        "id": "k-iH6qFWjq-G"
      }
    },
    {
      "cell_type": "code",
      "source": [
        "# reference: https://xgboost.readthedocs.io/en/stable/python/python_api.html\n",
        "\n",
        "xgbmodel = XGBRegressor(n_estimators = 1000, objective ='reg:squarederror', verbosity = 0, random_state=42)\n",
        "xgbmodel.fit(X_train,y_train)"
      ],
      "metadata": {
        "colab": {
          "base_uri": "https://localhost:8080/"
        },
        "id": "qglw-ltPjruD",
        "outputId": "b07115a3-9e95-4a5f-eaa0-2fbc1d284d70"
      },
      "execution_count": null,
      "outputs": [
        {
          "output_type": "execute_result",
          "data": {
            "text/plain": [
              "XGBRegressor(n_estimators=1000, objective='reg:squarederror', random_state=42,\n",
              "             verbosity=0)"
            ]
          },
          "metadata": {},
          "execution_count": 282
        }
      ]
    },
    {
      "cell_type": "code",
      "source": [
        "y_preds = xgbmodel.predict(X_train)\n",
        "y_valid_preds = xgbmodel.predict(X_valid)\n",
        "y_test_preds = xgbmodel.predict(X_test)"
      ],
      "metadata": {
        "id": "gVa6Md2CjzG2"
      },
      "execution_count": null,
      "outputs": []
    },
    {
      "cell_type": "code",
      "source": [
        "# evalutation \n",
        "print(\"R2 Score using the model on training data: \", r2_score(y_train, y_preds))\n",
        "print(\"R2 Score using the model on testing data: \", r2_score(y_test, y_test_preds))\n",
        "print(\"R2 Score using the model on validation data: \", r2_score(y_valid, y_valid_preds))"
      ],
      "metadata": {
        "colab": {
          "base_uri": "https://localhost:8080/"
        },
        "id": "y1qwaIfej3gd",
        "outputId": "47a647a6-04de-41c3-d4e9-8d149b35cfbb"
      },
      "execution_count": null,
      "outputs": [
        {
          "output_type": "stream",
          "name": "stdout",
          "text": [
            "R2 Score using the model on training data:  0.48892894120652053\n",
            "R2 Score using the model on testing data:  0.4129427654682114\n",
            "R2 Score using the model on validation data:  0.40629542874253133\n"
          ]
        }
      ]
    },
    {
      "cell_type": "markdown",
      "source": [
        "#### Plot a visualization of the learning process or the learned information of the model.\n",
        "\n",
        "A learning curve plots the optimal value of a model's loss function for a training set against this loss function evaluated on a validation data set with same parameters as produced the optimal function. We have plotted two learning curves using two different libraries such as Sklearn, and mlxtend."
      ],
      "metadata": {
        "id": "_HFAlp6xIGtR"
      }
    },
    {
      "cell_type": "code",
      "source": [
        "# reference: https://scikit-learn.org/stable/modules/generated/sklearn.model_selection.learning_curve.html\n",
        "# learning curve\n",
        "train_sizes, train_scores, test_scores = learning_curve(xgbmodel, X_train, y_train, scoring='neg_mean_squared_error')"
      ],
      "metadata": {
        "id": "73qYMNedj5Vp"
      },
      "execution_count": null,
      "outputs": []
    },
    {
      "cell_type": "code",
      "source": [
        "train_mean = np.mean(train_scores, axis=1)\n",
        "train_std = np.std(train_scores, axis=1)\n",
        "\n",
        "test_mean = np.mean(test_scores, axis=1)\n",
        "test_std = np.std(test_scores, axis=1)\n",
        "\n",
        "plt.subplots(1, figsize=(7,6))\n",
        "plt.plot(train_sizes, train_mean, color='blue', label='Training MSE')\n",
        "plt.plot(train_sizes, test_mean, color='orange', linestyle='--', label='Cross-Validation MSE')\n",
        "\n",
        "plt.fill_between(train_sizes, train_mean - train_std, train_mean + train_std, alpha=0.30, color='blue')\n",
        "plt.fill_between(train_sizes, test_mean - test_std, test_mean + test_std,alpha=0.15, color='orange')\n",
        "\n",
        "plt.title(\"Learning Curve\")\n",
        "plt.xlabel(\"Training Set Size\"), plt.ylabel(\"Cross-Validation Mean Squared Error\"), plt.legend(loc=\"best\")\n",
        "plt.tight_layout()\n",
        "plt.show()"
      ],
      "metadata": {
        "colab": {
          "base_uri": "https://localhost:8080/",
          "height": 437
        },
        "id": "hEb-lgg3j-Se",
        "outputId": "3fdae9f0-3884-49e9-b264-ea7906f65cd9"
      },
      "execution_count": null,
      "outputs": [
        {
          "output_type": "display_data",
          "data": {
            "text/plain": [
              "<Figure size 504x432 with 1 Axes>"
            ],
            "image/png": "[encoded data removed]"
          },
          "metadata": {}
        }
      ]
    },
    {
      "cell_type": "code",
      "source": [
        "# reference: http://rasbt.github.io/mlxtend/user_guide/plotting/plot_learning_curves/\n",
        "plt.subplots(figsize=(15,5))\n",
        "plot_learning_curves(X_train, y_train, X_test, y_test, xgbmodel, scoring='mean_squared_error')"
      ],
      "metadata": {
        "colab": {
          "base_uri": "https://localhost:8080/",
          "height": 806
        },
        "id": "-n18BnjuIiqN",
        "outputId": "5f12c19b-40c0-432f-ff5b-ac5c02ec224b"
      },
      "execution_count": null,
      "outputs": [
        {
          "output_type": "execute_result",
          "data": {
            "text/plain": [
              "([0.11801383724523773,\n",
              "  0.19296342281710113,\n",
              "  0.22079669644777822,\n",
              "  0.24194832570772754,\n",
              "  0.25321355689673086,\n",
              "  0.2625177469455526,\n",
              "  0.2646168989969612,\n",
              "  0.2666338512545623,\n",
              "  0.2701632942480895,\n",
              "  0.27472293636359973],\n",
              " [0.484988331070075,\n",
              "  0.4031061141291923,\n",
              "  0.3669381182796027,\n",
              "  0.35148731300047736,\n",
              "  0.3426292582832272,\n",
              "  0.33424385892911546,\n",
              "  0.3280341378631568,\n",
              "  0.3220675678410206,\n",
              "  0.31659817849247474,\n",
              "  0.31852271428211426])"
            ]
          },
          "metadata": {},
          "execution_count": 203
        },
        {
          "output_type": "display_data",
          "data": {
            "text/plain": [
              "<Figure size 1080x360 with 1 Axes>"
            ],
            "image/png": "[encoded data removed]"
          },
          "metadata": {}
        }
      ]
    },
    {
      "cell_type": "markdown",
      "source": [
        "By analyzing both of these learning curve, we can say that model is not performing appropriately when the training data size is less than 40%. However, it started working efficiently and generating desired outcomes as training size increase and model gets trained more."
      ],
      "metadata": {
        "id": "PGB6g7oxIeEj"
      }
    },
    {
      "cell_type": "markdown",
      "source": [
        "### Analyze the results\n",
        "\n",
        "Using XGBoost algorithm, we were able to achieve around 0.48 r2_score, which is almost half to the 1. So, we can assume that predicated data and actual data is has some variance but it is very low variance. However, by\n",
        "considering different approach we can build the better algorithm, which provide more good evaluation score than this baseline model and that will be our final candidate model."
      ],
      "metadata": {
        "id": "fywTuAoNJZcI"
      }
    },
    {
      "cell_type": "markdown",
      "source": [
        "#### LightGBM Regressor Candidate Model"
      ],
      "metadata": {
        "id": "ulQF3dktkXu-"
      }
    },
    {
      "cell_type": "markdown",
      "source": [
        "We have used [LightGBM Regressor](https://lightgbm.readthedocs.io/en/latest/pythonapi/lightgbm.LGBMRegressor.html) for Regression, which is also an efficient implementation of gradient boosting that can be used for regression predictive modeling. As we metioned above, here we are going to use this model to predict customer_active_hours for unseen data and we considered this model as a candidate model. We have performed manually tried different hyperparameters and we have found that n_estimator=1000, boosting_type='gbdt', min_data=50 parameteres in which model is performing more efficiently. "
      ],
      "metadata": {
        "id": "2lQw5HbqKCpm"
      }
    },
    {
      "cell_type": "code",
      "source": [
        "# reference: https://lightgbm.readthedocs.io/en/latest/pythonapi/lightgbm.LGBMRegressor.html\n",
        "\n",
        "lgbmmodel = LGBMRegressor(n_estimators=1000, boosting_type='gbdt', min_data=50)\n",
        "lgbmmodel.fit(X_train,y_train)"
      ],
      "metadata": {
        "colab": {
          "base_uri": "https://localhost:8080/"
        },
        "id": "K04eAaHkkZR-",
        "outputId": "364ff5d3-31ec-417f-a5f5-87c62bf6ccb3"
      },
      "execution_count": null,
      "outputs": [
        {
          "output_type": "execute_result",
          "data": {
            "text/plain": [
              "LGBMRegressor(min_data=50, n_estimators=1000)"
            ]
          },
          "metadata": {},
          "execution_count": 283
        }
      ]
    },
    {
      "cell_type": "code",
      "source": [
        "y_lgbm_preds = lgbmmodel.predict(X_train)\n",
        "y_lgbm_test_preds = lgbmmodel.predict(X_test)\n",
        "y_lgbm_valid_preds = lgbmmodel.predict(X_valid)"
      ],
      "metadata": {
        "id": "1X7EWovFkfEM"
      },
      "execution_count": null,
      "outputs": []
    },
    {
      "cell_type": "code",
      "source": [
        "print(\"R2 Score using LGBM model on training data: \", r2_score(y_train, y_lgbm_preds))\n",
        "print(\"R2 Score using LGBM model on testing data: \", r2_score(y_test, y_lgbm_test_preds))\n",
        "print(\"R2 Score using LGBM model on validation data: \", r2_score(y_valid, y_lgbm_valid_preds))"
      ],
      "metadata": {
        "colab": {
          "base_uri": "https://localhost:8080/"
        },
        "id": "dnAPE5OOkhFT",
        "outputId": "5b79a58c-6611-453b-aabc-7fb177fee947"
      },
      "execution_count": null,
      "outputs": [
        {
          "output_type": "stream",
          "name": "stdout",
          "text": [
            "R2 Score using LGBM model on training data:  0.7285381710889977\n",
            "R2 Score using LGBM model on testing data:  0.505137658252007\n",
            "R2 Score using LGBM model on validation data:  0.5023774176985742\n"
          ]
        }
      ]
    },
    {
      "cell_type": "markdown",
      "source": [
        "#### Plot a visualization of the learning process or the learned information of the model.\n",
        "\n",
        "A learning curve plots the optimal value of a model's loss function for a training set against this loss function evaluated on a validation data set with same parameters as produced the optimal function. We have plotted two learning curves using two different libraries such as Sklearn, and mlxtend for the candidate model as well."
      ],
      "metadata": {
        "id": "_mwcaOV-PmFI"
      }
    },
    {
      "cell_type": "code",
      "source": [
        "# learning curve\n",
        "train_sizes, train_scores, test_scores = learning_curve(lgbmmodel, X_train, y_train, scoring='neg_mean_squared_error')"
      ],
      "metadata": {
        "id": "z6Ade6i3kjl6"
      },
      "execution_count": null,
      "outputs": []
    },
    {
      "cell_type": "code",
      "source": [
        "train_mean = np.mean(train_scores, axis=1)\n",
        "train_std = np.std(train_scores, axis=1)\n",
        "\n",
        "test_mean = np.mean(test_scores, axis=1)\n",
        "test_std = np.std(test_scores, axis=1)\n",
        "\n",
        "plt.subplots(1, figsize=(7,6))\n",
        "plt.plot(train_sizes, train_mean, color='blue', label='Training MSE')\n",
        "plt.plot(train_sizes, test_mean, color='orange', linestyle='--', label='Cross-Validation MSE')\n",
        "\n",
        "plt.fill_between(train_sizes, train_mean - train_std, train_mean + train_std, alpha=0.30, color='blue')\n",
        "plt.fill_between(train_sizes, test_mean - test_std, test_mean + test_std,alpha=0.15, color='orange')\n",
        "\n",
        "plt.title(\"Learning Curve\")\n",
        "plt.xlabel(\"Training Set Size\"), plt.ylabel(\"Cross-Validation Mean Squared Error\"), plt.legend(loc=\"best\")\n",
        "plt.tight_layout()\n",
        "plt.show()"
      ],
      "metadata": {
        "colab": {
          "base_uri": "https://localhost:8080/",
          "height": 437
        },
        "id": "6_Z1R-j4klad",
        "outputId": "9e46a221-489b-4fb2-c9f2-3185c6a0fd42"
      },
      "execution_count": null,
      "outputs": [
        {
          "output_type": "display_data",
          "data": {
            "text/plain": [
              "<Figure size 504x432 with 1 Axes>"
            ],
            "image/png": "[encoded data removed]"
          },
          "metadata": {}
        }
      ]
    },
    {
      "cell_type": "code",
      "source": [
        "plt.subplots(figsize=(15,5))\n",
        "plot_learning_curves(X_train, y_train, X_test, y_test, lgbmmodel, scoring='mean_squared_error')"
      ],
      "metadata": {
        "colab": {
          "base_uri": "https://localhost:8080/",
          "height": 784
        },
        "id": "foWnN4fTk3TC",
        "outputId": "a64e0c4f-0776-4be9-cdd8-5733329ac484"
      },
      "execution_count": null,
      "outputs": [
        {
          "output_type": "execute_result",
          "data": {
            "text/plain": [
              "([0.023806029055280287,\n",
              "  0.046314074451096116,\n",
              "  0.07343617725469,\n",
              "  0.09263524031732,\n",
              "  0.10723287470945389,\n",
              "  0.11797919078029313,\n",
              "  0.12455741300039017,\n",
              "  0.13102446198171658,\n",
              "  0.13701268843330833,\n",
              "  0.1430692834203138],\n",
              " [0.5134351518852143,\n",
              "  0.4353141862377419,\n",
              "  0.3910918443593234,\n",
              "  0.3520679340927543,\n",
              "  0.3281478218378969,\n",
              "  0.30772213099856005,\n",
              "  0.2934765687647251,\n",
              "  0.2806453532181348,\n",
              "  0.27224356800502725,\n",
              "  0.27077892730776776])"
            ]
          },
          "metadata": {},
          "execution_count": 156
        },
        {
          "output_type": "display_data",
          "data": {
            "text/plain": [
              "<Figure size 1080x360 with 1 Axes>"
            ],
            "image/png": "[encoded data removed]"
          },
          "metadata": {}
        }
      ]
    },
    {
      "cell_type": "markdown",
      "source": [
        "By analyzing both of these learning curve, we can say that model is not performing appropriately when the training data size is less than 45%. However, it started working efficiently and generating desired outcomes as training size increase and model gets trained more."
      ],
      "metadata": {
        "id": "d5woEeySPxLQ"
      }
    },
    {
      "cell_type": "markdown",
      "source": [
        "### Analyze the results\n",
        "\n",
        "Using the LGBMRegressor algorithm, we were able to achieve 0.74 r2 score for training data, which is very close to 1, as well as 0.5 r2 score for testing and validation data. We also attempted to fit the model with L1 and L2 regularization, but found no nominal change in model accuracy. So, because regularization had no effect, we decided to use the model without it. Finally, we can assume that the variance between predicted and actual data is very low. As a result, we chose the LGBMRegressor as our final candidate model."
      ],
      "metadata": {
        "id": "1ASJyySyQAoD"
      }
    },
    {
      "cell_type": "markdown",
      "source": [
        "### Compare the baseline model and candidate model with a statistical significance test and display box plot to visualize the result.\n",
        "\n",
        "We have used Cross Validation Score metrics to compare both (XGBoost regressor and LGBMRegressor) models. As we have performed regression technique, R2_score of the both model will be compared, and for the comparison we have plotted the box plot for both models.\n",
        "\n",
        "To draw the box plots for both models, we first calculated the cross_validation_results for XGBoost regressor model and LGBMRegressor. Then using matplotlib library, we plotted the boxplots of both models."
      ],
      "metadata": {
        "id": "zzO1GVoJ6PTx"
      }
    },
    {
      "cell_type": "markdown",
      "source": [
        "#### Statistical Significance test\n",
        "\n",
        "From the [statistical significance test](https://docs.scipy.org/doc/scipy/reference/generated/scipy.stats.ttest_ind.html), we have done statistical significance test on LGBMRegressor model with XGBoostRegressor Model. The null hypothesis is that we are assuming there is no stastical distribution similarity on the predictions of the models.\n",
        " \n",
        "From the results, it is clearly seen that the p-value is very close to 1 (larger than 0.05), which means that we cannot reject the null hypothesis and there are no any statistical significance relationship between results of both models."
      ],
      "metadata": {
        "id": "jDUqp1p0PV6p"
      }
    },
    {
      "cell_type": "code",
      "source": [
        "stats.ttest_ind(y_lgbm_test_preds,y_test_preds)"
      ],
      "metadata": {
        "colab": {
          "base_uri": "https://localhost:8080/"
        },
        "id": "OgJSUECz3Kwo",
        "outputId": "b6ebd4fe-322b-4c5b-8517-c35df5a486e0"
      },
      "execution_count": null,
      "outputs": [
        {
          "output_type": "execute_result",
          "data": {
            "text/plain": [
              "Ttest_indResult(statistic=0.0544440816750839, pvalue=0.9565817947634334)"
            ]
          },
          "metadata": {},
          "execution_count": 266
        }
      ]
    },
    {
      "cell_type": "code",
      "source": [
        "# reference: https://machinelearningmastery.com/compare-machine-learning-algorithms-python-scikit-learn/\n",
        "model_results = []\n",
        "\n",
        "cv_results = cross_val_score(xgbmodel,X_test, y_test)\n",
        "model_results.append(cv_results)\n",
        "\n",
        "cv_results = cross_val_score(lgbmmodel,X_test, y_test)\n",
        "model_results.append(cv_results)"
      ],
      "metadata": {
        "id": "GFxDSXag1Tll"
      },
      "execution_count": null,
      "outputs": []
    },
    {
      "cell_type": "code",
      "source": [
        "plt.figure(figsize=(15,7))\n",
        "plt.boxplot(model_results, labels=['XGBoost Regression', 'LightGBM Regressor'])\n",
        "plt.show()"
      ],
      "metadata": {
        "colab": {
          "base_uri": "https://localhost:8080/",
          "height": 431
        },
        "id": "bnMNJCWq1d1q",
        "outputId": "ebfca475-a219-46f6-8f5b-49856fec09aa"
      },
      "execution_count": null,
      "outputs": [
        {
          "output_type": "display_data",
          "data": {
            "text/plain": [
              "<Figure size 1080x504 with 1 Axes>"
            ],
            "image/png": "[encoded data removed]"
          },
          "metadata": {}
        }
      ]
    },
    {
      "cell_type": "markdown",
      "source": [
        "We can interpret that LightGBM Regressor model is performing more efficiently than XGBoost regressor as R2 score of LightGBM Regressor model is more than XGBoost regressor."
      ],
      "metadata": {
        "id": "jUpEuNTfVwQy"
      }
    },
    {
      "cell_type": "code",
      "source": [
        "!wget -nc https://raw.githubusercontent.com/brpy/colab-pdf/master/colab_pdf.py\n",
        "from colab_pdf import colab_pdf\n",
        "colab_pdf('FP-Notebook-JaimiSheta-JaySonani-MitulMalani-PritSorathiya-PritThakkar.ipynb')"
      ],
      "metadata": {
        "id": "Uf70fr2zt7_V",
        "colab": {
          "base_uri": "https://localhost:8080/",
          "height": 868
        },
        "outputId": "27a7654f-9d92-43f2-8706-132bcfdea97e"
      },
      "execution_count": 1,
      "outputs": [
        {
          "output_type": "stream",
          "name": "stdout",
          "text": [
            "--2022-08-02 04:06:36--  https://raw.githubusercontent.com/brpy/colab-pdf/master/colab_pdf.py\n",
            "Resolving raw.githubusercontent.com (raw.githubusercontent.com)... 185.199.111.133, 185.199.109.133, 185.199.110.133, ...\n",
            "Connecting to raw.githubusercontent.com (raw.githubusercontent.com)|185.199.111.133|:443... connected.\n",
            "HTTP request sent, awaiting response... 200 OK\n",
            "Length: 1864 (1.8K) [text/plain]\n",
            "Saving to: ‘colab_pdf.py’\n",
            "\n",
            "\rcolab_pdf.py          0%[                    ]       0  --.-KB/s               \rcolab_pdf.py        100%[===================>]   1.82K  --.-KB/s    in 0s      \n",
            "\n",
            "2022-08-02 04:06:36 (27.8 MB/s) - ‘colab_pdf.py’ saved [1864/1864]\n",
            "\n",
            "Mounted at /content/drive/\n",
            "\n",
            "WARNING: apt does not have a stable CLI interface. Use with caution in scripts.\n",
            "\n",
            "\n",
            "WARNING: apt does not have a stable CLI interface. Use with caution in scripts.\n",
            "\n",
            "Extracting templates from packages: 100%\n",
            "[NbConvertApp] Converting notebook /content/drive/MyDrive/Colab Notebooks/FP-Notebook-JaimiSheta-JaySonani-MitulMalani-PritSorathiya-PritThakkar.ipynb to pdf\n",
            "[NbConvertApp] Support files will be in FP-Notebook-JaimiSheta-JaySonani-MitulMalani-PritSorathiya-PritThakkar_files/\n",
            "[NbConvertApp] Making directory ./FP-Notebook-JaimiSheta-JaySonani-MitulMalani-PritSorathiya-PritThakkar_files\n",
            "[NbConvertApp] Making directory ./FP-Notebook-JaimiSheta-JaySonani-MitulMalani-PritSorathiya-PritThakkar_files\n",
            "[NbConvertApp] Making directory ./FP-Notebook-JaimiSheta-JaySonani-MitulMalani-PritSorathiya-PritThakkar_files\n",
            "[NbConvertApp] Making directory ./FP-Notebook-JaimiSheta-JaySonani-MitulMalani-PritSorathiya-PritThakkar_files\n",
            "[NbConvertApp] Making directory ./FP-Notebook-JaimiSheta-JaySonani-MitulMalani-PritSorathiya-PritThakkar_files\n",
            "[NbConvertApp] Making directory ./FP-Notebook-JaimiSheta-JaySonani-MitulMalani-PritSorathiya-PritThakkar_files\n",
            "[NbConvertApp] Making directory ./FP-Notebook-JaimiSheta-JaySonani-MitulMalani-PritSorathiya-PritThakkar_files\n",
            "[NbConvertApp] Making directory ./FP-Notebook-JaimiSheta-JaySonani-MitulMalani-PritSorathiya-PritThakkar_files\n",
            "[NbConvertApp] Making directory ./FP-Notebook-JaimiSheta-JaySonani-MitulMalani-PritSorathiya-PritThakkar_files\n",
            "[NbConvertApp] Making directory ./FP-Notebook-JaimiSheta-JaySonani-MitulMalani-PritSorathiya-PritThakkar_files\n",
            "[NbConvertApp] Making directory ./FP-Notebook-JaimiSheta-JaySonani-MitulMalani-PritSorathiya-PritThakkar_files\n",
            "[NbConvertApp] Making directory ./FP-Notebook-JaimiSheta-JaySonani-MitulMalani-PritSorathiya-PritThakkar_files\n",
            "[NbConvertApp] Making directory ./FP-Notebook-JaimiSheta-JaySonani-MitulMalani-PritSorathiya-PritThakkar_files\n",
            "[NbConvertApp] Making directory ./FP-Notebook-JaimiSheta-JaySonani-MitulMalani-PritSorathiya-PritThakkar_files\n",
            "[NbConvertApp] Making directory ./FP-Notebook-JaimiSheta-JaySonani-MitulMalani-PritSorathiya-PritThakkar_files\n",
            "[NbConvertApp] Making directory ./FP-Notebook-JaimiSheta-JaySonani-MitulMalani-PritSorathiya-PritThakkar_files\n",
            "[NbConvertApp] Making directory ./FP-Notebook-JaimiSheta-JaySonani-MitulMalani-PritSorathiya-PritThakkar_files\n",
            "[NbConvertApp] Making directory ./FP-Notebook-JaimiSheta-JaySonani-MitulMalani-PritSorathiya-PritThakkar_files\n",
            "[NbConvertApp] Making directory ./FP-Notebook-JaimiSheta-JaySonani-MitulMalani-PritSorathiya-PritThakkar_files\n",
            "[NbConvertApp] Making directory ./FP-Notebook-JaimiSheta-JaySonani-MitulMalani-PritSorathiya-PritThakkar_files\n",
            "[NbConvertApp] Writing 129658 bytes to ./notebook.tex\n",
            "[NbConvertApp] Building PDF\n",
            "[NbConvertApp] Running xelatex 3 times: ['xelatex', './notebook.tex', '-quiet']\n",
            "[NbConvertApp] Running bibtex 1 time: ['bibtex', './notebook']\n",
            "[NbConvertApp] WARNING | bibtex had problems, most likely because there were no citations\n",
            "[NbConvertApp] PDF successfully created\n",
            "[NbConvertApp] Writing 486425 bytes to /content/drive/My Drive/FP-Notebook-JaimiSheta-JaySonani-MitulMalani-PritSorathiya-PritThakkar.pdf\n"
          ]
        },
        {
          "output_type": "display_data",
          "data": {
            "text/plain": [
              "<IPython.core.display.Javascript object>"
            ],
            "application/javascript": [
              "\n",
              "    async function download(id, filename, size) {\n",
              "      if (!google.colab.kernel.accessAllowed) {\n",
              "        return;\n",
              "      }\n",
              "      const div = document.createElement('div');\n",
              "      const label = document.createElement('label');\n",
              "      label.textContent = `Downloading \"${filename}\": `;\n",
              "      div.appendChild(label);\n",
              "      const progress = document.createElement('progress');\n",
              "      progress.max = size;\n",
              "      div.appendChild(progress);\n",
              "      document.body.appendChild(div);\n",
              "\n",
              "      const buffers = [];\n",
              "      let downloaded = 0;\n",
              "\n",
              "      const channel = await google.colab.kernel.comms.open(id);\n",
              "      // Send a message to notify the kernel that we're ready.\n",
              "      channel.send({})\n",
              "\n",
              "      for await (const message of channel.messages) {\n",
              "        // Send a message to notify the kernel that we're ready.\n",
              "        channel.send({})\n",
              "        if (message.buffers) {\n",
              "          for (const buffer of message.buffers) {\n",
              "            buffers.push(buffer);\n",
              "            downloaded += buffer.byteLength;\n",
              "            progress.value = downloaded;\n",
              "          }\n",
              "        }\n",
              "      }\n",
              "      const blob = new Blob(buffers, {type: 'application/binary'});\n",
              "      const a = document.createElement('a');\n",
              "      a.href = window.URL.createObjectURL(blob);\n",
              "      a.download = filename;\n",
              "      div.appendChild(a);\n",
              "      a.click();\n",
              "      div.remove();\n",
              "    }\n",
              "  "
            ]
          },
          "metadata": {}
        },
        {
          "output_type": "display_data",
          "data": {
            "text/plain": [
              "<IPython.core.display.Javascript object>"
            ],
            "application/javascript": [
              "download(\"download_398ec4b2-db91-4cdf-bcdf-1652273e685a\", \"FP-Notebook-JaimiSheta-JaySonani-MitulMalani-PritSorathiya-PritThakkar.pdf\", 486425)"
            ]
          },
          "metadata": {}
        },
        {
          "output_type": "execute_result",
          "data": {
            "text/plain": [
              "'File ready to be Downloaded and Saved to Drive'"
            ],
            "application/vnd.google.colaboratory.intrinsic+json": {
              "type": "string"
            }
          },
          "metadata": {},
          "execution_count": 1
        }
      ]
    },
    {
      "cell_type": "code",
      "source": [
        ""
      ],
      "metadata": {
        "id": "YxngmWhtu-Mc"
      },
      "execution_count": null,
      "outputs": []
    }
  ],
  "metadata": {
    "colab": {
      "collapsed_sections": [],
      "name": "FP-Notebook-JaimiSheta-JaySonani-MitulMalani-PritSorathiya-PritThakkar.ipynb",
      "provenance": []
    },
    "kernelspec": {
      "display_name": "Python 3",
      "name": "python3"
    },
    "language_info": {
      "name": "python"
    },
    "gpuClass": "standard"
  },
  "nbformat": 4,
  "nbformat_minor": 0
}